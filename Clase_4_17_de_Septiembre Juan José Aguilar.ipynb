{
  "nbformat": 4,
  "nbformat_minor": 0,
  "metadata": {
    "colab": {
      "provenance": []
    },
    "kernelspec": {
      "name": "python3",
      "display_name": "Python 3"
    },
    "language_info": {
      "name": "python"
    }
  },
  "cells": [
    {
      "cell_type": "code",
      "execution_count": 12,
      "metadata": {
        "colab": {
          "base_uri": "https://localhost:8080/"
        },
        "id": "vjGCmjwiQ5ZA",
        "outputId": "9d594f6b-01b9-420e-a33e-2313f3aa9b19"
      },
      "outputs": [
        {
          "output_type": "stream",
          "name": "stdout",
          "text": [
            "Ingresa el número: 5\n",
            "El factorial de 5, es 120\n"
          ]
        }
      ],
      "source": [
        "n = int(input(\"Ingresa el número: \"))\n",
        "i = n\n",
        "facto = n\n",
        "for i in range(n-1,1,-1):\n",
        "  facto = facto*i\n",
        "print(f\"El factorial de {n} es {facto}\")"
      ]
    },
    {
      "cell_type": "code",
      "source": [
        "n = int(input(\"Ingresa el número: \"))\n",
        "lista = list(range(n))\n",
        "print (lista)\n",
        "\n",
        "for i in lista:\n",
        "  f = n*i\n",
        "  print(facto)"
      ],
      "metadata": {
        "colab": {
          "base_uri": "https://localhost:8080/"
        },
        "id": "HE3P6_FvSizO",
        "outputId": "da01a5bf-30dd-4891-a641-9848045c9d42"
      },
      "execution_count": 16,
      "outputs": [
        {
          "output_type": "stream",
          "name": "stdout",
          "text": [
            "Ingresa el número: 5\n",
            "[0, 1, 2, 3, 4]\n",
            "0\n",
            "5\n",
            "10\n",
            "15\n",
            "20\n"
          ]
        }
      ]
    },
    {
      "cell_type": "markdown",
      "source": [
        "#1. Crear el programa que solicite el nombre y el código de un estudiante y que luego lo imprima,junto con el logo de la institución educativa perteneciente.\n",
        "\n",
        "Ejemplo:\n",
        "Digite su nombre: Sonia Smith\n",
        "Digite su código: U000582515\n",
        "El programa imprimirá:\n",
        "UNIVERSIDAD AUTÓNOMA DE BUCARAMANGA\n",
        "Nombre del estudiante: Sonia Smith\n",
        "Código: U000582515"
      ],
      "metadata": {
        "id": "IfpbLfY_aytn"
      }
    },
    {
      "cell_type": "code",
      "source": [
        "n = (input(\"Ingrese su nombre: \"))\n",
        "c = (input(\"Ingrese su código: \"))\n",
        "print(\"UNIVERSIDAD AUTÓNOMA DE BUCARAMANGA\")\n",
        "print(f\"Nombre del estudiante: {n}\")\n",
        "print(f\"Código: {c}\")"
      ],
      "metadata": {
        "colab": {
          "base_uri": "https://localhost:8080/"
        },
        "id": "GlwlrHD0UxjV",
        "outputId": "4cfae16d-40ee-419e-dcec-e1a3f60f3d01"
      },
      "execution_count": 18,
      "outputs": [
        {
          "output_type": "stream",
          "name": "stdout",
          "text": [
            "Ingrese su nombre: Juan José Aguilar Caicedo\n",
            "Ingrese su código: U0017760\n",
            "UNIVERSIDAD AUTÓNOMA DE BUCARAMANGA\n",
            "Nombre del estudiante: Juan José Aguilar Caicedo\n",
            "Código: U0017760\n"
          ]
        }
      ]
    },
    {
      "cell_type": "markdown",
      "source": [
        "#2. Diseñe un algoritmo para calcular el volumen de un cono.\n"
      ],
      "metadata": {
        "id": "487B-NN5cjB-"
      }
    },
    {
      "cell_type": "code",
      "source": [
        "h = float(input(\"Ingrese la altura del cono: \"))\n",
        "r = float(input(\"Ingrese el radio de la base del cono: \"))\n",
        "\n",
        "v = (1/3)*3.1416*(r**2)*h\n",
        "print(f\"El volumen del cono es: {v}\")\n",
        "\n"
      ],
      "metadata": {
        "colab": {
          "base_uri": "https://localhost:8080/"
        },
        "id": "zxjN6PNYciYW",
        "outputId": "ea298146-ae57-4375-f42a-345660cd16c6"
      },
      "execution_count": 20,
      "outputs": [
        {
          "output_type": "stream",
          "name": "stdout",
          "text": [
            "Ingrese la altura del cono: 5\n",
            "Ingrese el radio de la base del cono: 2\n",
            "El volumen del cono es: 20.944\n"
          ]
        }
      ]
    },
    {
      "cell_type": "markdown",
      "source": [
        "#3. Dado el conjunto de n servidores que apoyen una red de computadores, diseñe un programa que calcule el número total de conexiones entre los servidores que soportan la red."
      ],
      "metadata": {
        "id": "lwKkMG9LdMzd"
      }
    },
    {
      "cell_type": "code",
      "source": [
        "n = int(input(\"Ingrese el número de servidores: \"))\n",
        "conexiones = (n * (n - 1)) / 2\n",
        "print(f\"El número total de conexiones entre los servidores es: {conexiones}\")\n"
      ],
      "metadata": {
        "colab": {
          "base_uri": "https://localhost:8080/"
        },
        "id": "9_RNoNJIdMe-",
        "outputId": "4e927d70-45ed-4409-a364-8f7151ea0c4a"
      },
      "execution_count": 21,
      "outputs": [
        {
          "output_type": "stream",
          "name": "stdout",
          "text": [
            "Ingrese el número de servidores: 10\n",
            "El número total de conexiones entre los servidores es: 45.0\n"
          ]
        }
      ]
    },
    {
      "cell_type": "markdown",
      "source": [
        "#4. Diseñe un algoritmo que lea temperatura en grados centígrados (oC) y la convierta en grados Fahrenheit (oF) y a grados Kelvin (oK)."
      ],
      "metadata": {
        "id": "nCeVrobEduxd"
      }
    },
    {
      "cell_type": "code",
      "source": [
        "c = float(input(\"Ingrese la temperatura en grados Celsius: \"))\n",
        "f = (c * 9/5) + 32\n",
        "k = c + 273.15\n",
        "print(f\"La temperatura en grados Fahrenheit es: {f}\")\n",
        "print(f\"La temperatura en grados Kelvin es: {k}\")\n"
      ],
      "metadata": {
        "colab": {
          "base_uri": "https://localhost:8080/"
        },
        "id": "63rTZUWdbdQf",
        "outputId": "9a1bd4ac-7386-4fd9-bbfc-b3b7e131ddbb"
      },
      "execution_count": 22,
      "outputs": [
        {
          "output_type": "stream",
          "name": "stdout",
          "text": [
            "Ingrese la temperatura en grados Celsius: 35\n",
            "La temperatura en grados Fahrenheit es: 95.0\n",
            "La temperatura en grados Kelvin es: 308.15\n"
          ]
        }
      ]
    },
    {
      "cell_type": "markdown",
      "source": [
        "#5. Diseñar el programa de un robot, que le permita contestar a ciertos requerimientos del usuario (se supone que el usuario sólo cuenta con una petición). Se debe programar los artículos y los precios de los mismos. El robot debe al menos: Dar la bienvenida al cliente. Indicar el precio del artículo que seleccionó el usuario."
      ],
      "metadata": {
        "id": "vrpFwH_GeKEt"
      }
    },
    {
      "cell_type": "code",
      "source": [
        "print(\"¡Hola! Bienvenido a nuestro servicio de atención al cliente.\")\n",
        "\n",
        "articulo = input(\"¿Qué artículo te interesa? \")\n",
        "\n",
        "if articulo == \"manzana\":\n",
        "  print(\"El precio de la manzana es $1.00.\")\n",
        "elif articulo == \"banana\":\n",
        "  print(\"El precio de la banana es $0.50.\")\n",
        "elif articulo == \"naranja\":\n",
        "  print(\"El precio de la naranja es $0.75.\")\n",
        "else:\n",
        "  print(\"Lo siento, no tenemos ese artículo en stock.\")\n"
      ],
      "metadata": {
        "colab": {
          "base_uri": "https://localhost:8080/"
        },
        "id": "uCKA5vXCeEut",
        "outputId": "9a6d132e-b1a9-4ef9-b40b-2b0d9f89a2cd"
      },
      "execution_count": 25,
      "outputs": [
        {
          "output_type": "stream",
          "name": "stdout",
          "text": [
            "¡Hola! Bienvenido a nuestro servicio de atención al cliente.\n",
            "¿Qué artículo te interesa? naranja\n",
            "El precio de la naranja es $0.75.\n"
          ]
        }
      ]
    },
    {
      "cell_type": "markdown",
      "source": [
        "#6. Diseñe un programa que le permita calcular la resistencia total Rx. Considere que las n resistencias pueden estar en serie o en paralelo."
      ],
      "metadata": {
        "id": "QJ97UY-setHl"
      }
    },
    {
      "cell_type": "code",
      "source": [
        "n = int(input(\"Ingrese el número de resistencias: \"))\n",
        "resistencias = []\n",
        "for i in range(n):\n",
        "  r = float(input(f\"Ingrese el valor de la resistencia {i+1}: \"))\n",
        "  resistencias.append(r)\n",
        "\n",
        "tipo_conexion = input(\"Ingrese el tipo de conexión (serie o paralelo): \")\n",
        "\n",
        "if tipo_conexion == \"serie\":\n",
        "  rx = 0\n",
        "  for r in resistencias:\n",
        "    rx += r\n",
        "  print(f\"La resistencia total en serie es: {rx}\")\n",
        "\n",
        "elif tipo_conexion == \"paralelo\":\n",
        "  rx = 0\n",
        "  for r in resistencias:\n",
        "    if r != 0:\n",
        "      rx += 1 / r\n",
        "  rx = 1 / rx\n",
        "  print(f\"La resistencia total en paralelo es: {rx}\")\n",
        "\n",
        "else:\n",
        "  print(\"Tipo de conexión inválido.\")\n"
      ],
      "metadata": {
        "colab": {
          "base_uri": "https://localhost:8080/"
        },
        "id": "2j2WNiLIfyFE",
        "outputId": "d7eb7570-d66c-493d-d350-a5f55f1d5d51"
      },
      "execution_count": 30,
      "outputs": [
        {
          "output_type": "stream",
          "name": "stdout",
          "text": [
            "Ingrese el número de resistencias: 8\n",
            "Ingrese el valor de la resistencia 1: 6\n",
            "Ingrese el valor de la resistencia 2: 4\n",
            "Ingrese el valor de la resistencia 3: 7\n",
            "Ingrese el valor de la resistencia 4: 1\n",
            "Ingrese el valor de la resistencia 5: 3\n",
            "Ingrese el valor de la resistencia 6: 6\n",
            "Ingrese el valor de la resistencia 7: 8\n",
            "Ingrese el valor de la resistencia 8: 1\n",
            "Ingrese el tipo de conexión (serie o paralelo): serie\n",
            "La resistencia total en serie es: 36.0\n"
          ]
        }
      ]
    },
    {
      "cell_type": "markdown",
      "source": [
        "#7. Diseñe un algoritmo que lea temperatura en grados centígrados (oC) y la convierta en grados Fahrenheit (oF) y a grados Kelvin oK), siempre y cuando la temperatura dada en grados sea positiva."
      ],
      "metadata": {
        "id": "Jb_P0z2EfaL8"
      }
    },
    {
      "cell_type": "code",
      "source": [
        "c = float(input(\"Ingrese la temperatura en grados Celsius: \"))\n",
        "\n",
        "if c > 0:\n",
        "  f = (c * 9/5) + 32\n",
        "  k = c + 273.15\n",
        "  print(f\"La temperatura en grados Fahrenheit es: {f}\")\n",
        "  print(f\"La temperatura en grados Kelvin es: {k}\")\n",
        "else:\n",
        "  print(\"La temperatura debe ser positiva.\")\n"
      ],
      "metadata": {
        "colab": {
          "base_uri": "https://localhost:8080/"
        },
        "id": "MQPR_1vUfWgs",
        "outputId": "445af4dd-ddd9-4261-daea-8d155c30bace"
      },
      "execution_count": 31,
      "outputs": [
        {
          "output_type": "stream",
          "name": "stdout",
          "text": [
            "Ingrese la temperatura en grados Celsius: 7\n",
            "La temperatura en grados Fahrenheit es: 44.6\n",
            "La temperatura en grados Kelvin es: 280.15\n"
          ]
        }
      ]
    },
    {
      "cell_type": "markdown",
      "source": [
        "#8. Dado dos enteros: horas(h) y minutos (m), representativos del tiempo en horas y minutos dado por un reloj de 24 horas, convierta el tiempo dado por el reloj de 24 horas a un reloj que obtenga el tiempo cada 12 horas."
      ],
      "metadata": {
        "id": "2YnA0eqMgfZb"
      }
    },
    {
      "cell_type": "code",
      "source": [
        "h = int(input(\"Ingrese las horas: \"))\n",
        "m = int(input(\"Ingrese los minutos: \"))\n",
        "\n",
        "if h > 12:\n",
        "  h = h - 12\n",
        "  print(f\"{h}:{m} PM\")\n",
        "elif h == 12:\n",
        "  print(f\"{h}:{m} PM\")\n",
        "elif h == 0:\n",
        "  print(f\"12:{m} AM\")\n",
        "else:\n",
        "  print(f\"{h}:{m} AM\")\n"
      ],
      "metadata": {
        "colab": {
          "base_uri": "https://localhost:8080/"
        },
        "id": "LtUmsQfGgdoa",
        "outputId": "8e872057-c288-4774-c541-84a16fc0f12c"
      },
      "execution_count": 32,
      "outputs": [
        {
          "output_type": "stream",
          "name": "stdout",
          "text": [
            "Ingrese las horas: 5\n",
            "Ingrese los minutos: 36\n",
            "5:36 AM\n"
          ]
        }
      ]
    },
    {
      "cell_type": "markdown",
      "source": [
        "#9. Crear el programa que solicite el nombre y el código de n estudiantes. Dependiendo del código, clasifique la carrera del estudiante y que luego lo imprima, junto con el nombre de la institución educativa perteneciente.\n",
        "Ejemplo:\n",
        "Digite su nombre: Sonia Smith\n",
        "Digite su código: U000582515\n",
        "El programa imprimirá:\n",
        "UNIVERSIDAD AUTÓNOMA DE BUCARAMANGA\n",
        "Nombre del estudiante: Sonia Smith\n",
        "Código: U000382515\n",
        "Carrera: Ingeniería Mectrónica.\n",
        "Considere que los programas están dados por los cuatro primeros números después de la U del\n",
        "código:\n",
        "0001: Telecomunicaciones\n",
        "0002: Financiera\n",
        "0003: Mecatrónica\n",
        "0004: (una de su elección)"
      ],
      "metadata": {
        "id": "LN4zgWl4g61K"
      }
    },
    {
      "cell_type": "code",
      "source": [
        "\n",
        "\n",
        "n = int(input(\"Ingrese el número de estudiantes: \"))\n",
        "\n",
        "for i in range(n):\n",
        "  nombre = input(\"Digite su nombre: \")\n",
        "  codigo = input(\"Digite su código: \")\n",
        "\n",
        "  carrera = \"\"\n",
        "  if codigo[1:5] == \"0001\":\n",
        "    carrera = \"Telecomunicaciones\"\n",
        "  elif codigo[1:5] == \"0002\":\n",
        "    carrera = \"Financiera\"\n",
        "  elif codigo[1:5] == \"0003\":\n",
        "    carrera = \"Mecatrónica\"\n",
        "  elif codigo[1:5] == \"0004\":\n",
        "    carrera = \"Ingeniería de Sistemas\"\n",
        "  else:\n",
        "    carrera = \"Carrera no encontrada\"\n",
        "\n",
        "\n",
        "  print(\"UNIVERSIDAD AUTÓNOMA DE BUCARAMANGA\")\n",
        "  print(f\"Nombre del estudiante: {nombre}\")\n",
        "  print(f\"Código: {codigo}\")\n",
        "  print(f\"Carrera: {carrera}\")\n"
      ],
      "metadata": {
        "colab": {
          "base_uri": "https://localhost:8080/"
        },
        "id": "MZr87bPFg3mr",
        "outputId": "b7722c3a-96f9-4991-bb20-3609a5c9659d"
      },
      "execution_count": 36,
      "outputs": [
        {
          "output_type": "stream",
          "name": "stdout",
          "text": [
            "Ingrese el número de estudiantes: 2\n",
            "Digite su nombre: Jorge\n",
            "Digite su código: U000382515\n",
            "UNIVERSIDAD AUTÓNOMA DE BUCARAMANGA\n",
            "Nombre del estudiante: Jorge\n",
            "Código: U000382515\n",
            "Carrera: Mecatrónica\n",
            "Digite su nombre: Maria\n",
            "Digite su código: U000236984\n",
            "UNIVERSIDAD AUTÓNOMA DE BUCARAMANGA\n",
            "Nombre del estudiante: Maria\n",
            "Código: U000236984\n",
            "Carrera: Financiera\n"
          ]
        }
      ]
    },
    {
      "cell_type": "markdown",
      "source": [
        "#10. Diseñe un algoritmo que ejecute las funciones trigonométricas sen(x), cos(x) y tan(x) sujetas a la selección de las opciones asociadas así: Opción 1 para la función seno, opción 2 para la función coseno y opción 3 para el cálculo de la tangente, siendo el valor de x un argumento de entrada dado en grados."
      ],
      "metadata": {
        "id": "wTYjLFiZiOJq"
      }
    },
    {
      "cell_type": "code",
      "source": [
        "import math\n",
        "\n",
        "opcion = int(input(\"Seleccione una opción:\\n1. Seno\\n2. Coseno\\n3. Tangente\\nOpción: \"))\n",
        "x = float(input(\"Ingrese el valor de x en grados: \"))\n",
        "\n",
        "x_rad = math.radians(x)\n",
        "\n",
        "if opcion == 1:\n",
        "  resultado = math.sin(x_rad)\n",
        "  print(f\"El seno de {x} grados es: {resultado}\")\n",
        "elif opcion == 2:\n",
        "  resultado = math.cos(x_rad)\n",
        "  print(f\"El coseno de {x} grados es: {resultado}\")\n",
        "elif opcion == 3:\n",
        "  resultado = math.tan(x_rad)\n",
        "  print(f\"La tangente de {x} grados es: {resultado}\")\n",
        "else:\n",
        "  print(\"Opción inválida.\")\n",
        "\n"
      ],
      "metadata": {
        "colab": {
          "base_uri": "https://localhost:8080/"
        },
        "id": "4HH81JvohpfJ",
        "outputId": "9953ffda-4749-480d-f54e-608d3f0ee19c"
      },
      "execution_count": 39,
      "outputs": [
        {
          "output_type": "stream",
          "name": "stdout",
          "text": [
            "Seleccione una opción:\n",
            "1. Seno\n",
            "2. Coseno\n",
            "3. Tangente\n",
            "Opción: 2\n",
            "Ingrese el valor de x en grados: 90\n",
            "El coseno de 90.0 grados es: 6.123233995736766e-17\n"
          ]
        }
      ]
    },
    {
      "cell_type": "code",
      "source": [],
      "metadata": {
        "id": "lD5X0tNNigLA"
      },
      "execution_count": null,
      "outputs": []
    }
  ]
}