{
  "nbformat": 4,
  "nbformat_minor": 0,
  "metadata": {
    "colab": {
      "provenance": []
    },
    "kernelspec": {
      "name": "python3",
      "display_name": "Python 3"
    },
    "language_info": {
      "name": "python"
    }
  },
  "cells": [
    {
      "cell_type": "markdown",
      "source": [
        "False\n",
        "\n",
        "Definición: Es un valor booleano que representa \"falso\"."
      ],
      "metadata": {
        "id": "CJPdZQ2KZENJ"
      }
    },
    {
      "cell_type": "code",
      "execution_count": 1,
      "metadata": {
        "colab": {
          "base_uri": "https://localhost:8080/"
        },
        "id": "uSBzRZ-vY8EP",
        "outputId": "8af820a1-354c-4ca1-8085-290cd5633241"
      },
      "outputs": [
        {
          "output_type": "stream",
          "name": "stdout",
          "text": [
            "No necesitas paraguas.\n"
          ]
        }
      ],
      "source": [
        "is_raining = False\n",
        "if is_raining:\n",
        "    print(\"Lleva un paraguas.\")\n",
        "else:\n",
        "    print(\"No necesitas paraguas.\")\n"
      ]
    },
    {
      "cell_type": "markdown",
      "source": [
        "None\n",
        "\n",
        "Definición: Representa la ausencia de un valor o un valor nulo."
      ],
      "metadata": {
        "id": "K4r7XbWqZXhi"
      }
    },
    {
      "cell_type": "code",
      "source": [
        "result = None\n",
        "if result is None:\n",
        "    print(\"No hay resultado disponible.\")\n"
      ],
      "metadata": {
        "colab": {
          "base_uri": "https://localhost:8080/"
        },
        "id": "Y0YEz3JZZXzj",
        "outputId": "8e609721-34ed-4464-ace9-72cfce6aea56"
      },
      "execution_count": 2,
      "outputs": [
        {
          "output_type": "stream",
          "name": "stdout",
          "text": [
            "No hay resultado disponible.\n"
          ]
        }
      ]
    },
    {
      "cell_type": "markdown",
      "source": [
        "True\n",
        "\n",
        "Definición: Es un valor booleano que representa \"verdadero\"."
      ],
      "metadata": {
        "id": "yeFRo0r_Zi0y"
      }
    },
    {
      "cell_type": "code",
      "source": [
        "is_sunny = True\n",
        "if is_sunny:\n",
        "    print(\"Hace sol hoy.\")\n"
      ],
      "metadata": {
        "colab": {
          "base_uri": "https://localhost:8080/"
        },
        "id": "1zk2cLMHZnAE",
        "outputId": "70a61ffc-afe6-43f1-941a-3e668579390e"
      },
      "execution_count": 3,
      "outputs": [
        {
          "output_type": "stream",
          "name": "stdout",
          "text": [
            "Hace sol hoy.\n"
          ]
        }
      ]
    },
    {
      "cell_type": "markdown",
      "source": [
        "and\n",
        "\n",
        "Definición: Operador lógico que retorna True si ambas condiciones son verdaderas.\n"
      ],
      "metadata": {
        "id": "L7r3tlGPZrbr"
      }
    },
    {
      "cell_type": "code",
      "source": [
        "is_sunny = True\n",
        "is_warm = True\n",
        "if is_sunny and is_warm:\n",
        "    print(\"Es un buen día para ir a la playa.\")\n"
      ],
      "metadata": {
        "colab": {
          "base_uri": "https://localhost:8080/"
        },
        "id": "EKOXpGxeZuHs",
        "outputId": "2aac7911-fcd3-4e5e-bc07-ddf2106c5e80"
      },
      "execution_count": 4,
      "outputs": [
        {
          "output_type": "stream",
          "name": "stdout",
          "text": [
            "Es un buen día para ir a la playa.\n"
          ]
        }
      ]
    },
    {
      "cell_type": "markdown",
      "source": [
        "as\n",
        "\n",
        "Definición: Se utiliza para crear un alias, generalmente en importaciones."
      ],
      "metadata": {
        "id": "fnI0Zl35ZvL1"
      }
    },
    {
      "cell_type": "code",
      "source": [
        "import math as m\n",
        "print(m.sqrt(16))\n"
      ],
      "metadata": {
        "colab": {
          "base_uri": "https://localhost:8080/"
        },
        "id": "3kPbSe0XeWIF",
        "outputId": "748f04dd-0d59-400d-dd8c-ceac5f9b3197"
      },
      "execution_count": 5,
      "outputs": [
        {
          "output_type": "stream",
          "name": "stdout",
          "text": [
            "4.0\n"
          ]
        }
      ]
    },
    {
      "cell_type": "markdown",
      "source": [
        "assert\n",
        "\n",
        "Definición: Se utiliza para realizar comprobaciones durante la ejecución. Si la condición es falsa, se lanza una excepción."
      ],
      "metadata": {
        "id": "9Nc_fQMXZvup"
      }
    },
    {
      "cell_type": "code",
      "source": [
        "x = 5\n",
        "assert x > 0, \"x debería ser mayor que 0\"\n"
      ],
      "metadata": {
        "id": "hkzEKzyqeWmr"
      },
      "execution_count": 6,
      "outputs": []
    },
    {
      "cell_type": "markdown",
      "source": [
        "break\n",
        "\n",
        "Definición: Termina el ciclo más interno en el que se encuentra."
      ],
      "metadata": {
        "id": "B9Ae-QiYZwK4"
      }
    },
    {
      "cell_type": "code",
      "source": [
        "for i in range(10):\n",
        "    if i == 5:\n",
        "        break\n",
        "    print(i)\n",
        ""
      ],
      "metadata": {
        "colab": {
          "base_uri": "https://localhost:8080/"
        },
        "id": "vOXg3xo5eW-6",
        "outputId": "8bd6e0b5-ee57-47c4-d8d3-ab771c6a06b4"
      },
      "execution_count": 7,
      "outputs": [
        {
          "output_type": "stream",
          "name": "stdout",
          "text": [
            "0\n",
            "1\n",
            "2\n",
            "3\n",
            "4\n"
          ]
        }
      ]
    },
    {
      "cell_type": "markdown",
      "source": [
        "class\n",
        "\n",
        "Definición: Se utiliza para definir una nueva clase."
      ],
      "metadata": {
        "id": "etaR86YoZx0R"
      }
    },
    {
      "cell_type": "code",
      "source": [
        "class Persona:\n",
        "    def __init__(self, nombre):\n",
        "        self.nombre = nombre\n",
        "\n",
        "p = Persona(\"Juan\")\n",
        "print(p.nombre)\n"
      ],
      "metadata": {
        "colab": {
          "base_uri": "https://localhost:8080/"
        },
        "id": "aUhAzwCFeYFj",
        "outputId": "f6d399c3-4398-4c8c-dad5-a79731a7cc61"
      },
      "execution_count": 8,
      "outputs": [
        {
          "output_type": "stream",
          "name": "stdout",
          "text": [
            "Juan\n"
          ]
        }
      ]
    },
    {
      "cell_type": "markdown",
      "source": [
        "continue\n",
        "\n",
        "Definición: Salta el resto del código dentro del ciclo y continúa con la siguiente iteración."
      ],
      "metadata": {
        "id": "JnmAVrl4ZwwS"
      }
    },
    {
      "cell_type": "code",
      "source": [
        "for i in range(5):\n",
        "    if i == 2:\n",
        "        continue\n",
        "    print(i)\n"
      ],
      "metadata": {
        "colab": {
          "base_uri": "https://localhost:8080/"
        },
        "id": "EdjzNgdseYgv",
        "outputId": "56dc5fb8-d3b4-4fec-8828-169bee7ca430"
      },
      "execution_count": 9,
      "outputs": [
        {
          "output_type": "stream",
          "name": "stdout",
          "text": [
            "0\n",
            "1\n",
            "3\n",
            "4\n"
          ]
        }
      ]
    },
    {
      "cell_type": "markdown",
      "source": [
        "def\n",
        "\n",
        "Definición: Se utiliza para definir una función.\n"
      ],
      "metadata": {
        "id": "wtCI928BZyXl"
      }
    },
    {
      "cell_type": "code",
      "source": [
        "def saludo():\n",
        "    print(\"Hola\")\n",
        "\n",
        "saludo()\n"
      ],
      "metadata": {
        "colab": {
          "base_uri": "https://localhost:8080/"
        },
        "id": "F7dUXTJneY87",
        "outputId": "a001da65-572f-49d2-be35-3e6239253948"
      },
      "execution_count": 10,
      "outputs": [
        {
          "output_type": "stream",
          "name": "stdout",
          "text": [
            "Hola\n"
          ]
        }
      ]
    },
    {
      "cell_type": "markdown",
      "source": [
        "del\n",
        "\n",
        "Definición: Elimina una variable, lista, o un elemento de una lista."
      ],
      "metadata": {
        "id": "4UE0XNFcaDqE"
      }
    },
    {
      "cell_type": "code",
      "source": [
        "lista = [1, 2, 3]\n",
        "del lista[1]\n",
        "print(lista)\n"
      ],
      "metadata": {
        "colab": {
          "base_uri": "https://localhost:8080/"
        },
        "id": "eCniI-RdemOl",
        "outputId": "6c99371a-6c6d-4524-c709-6362d9d542b8"
      },
      "execution_count": 11,
      "outputs": [
        {
          "output_type": "stream",
          "name": "stdout",
          "text": [
            "[1, 3]\n"
          ]
        }
      ]
    },
    {
      "cell_type": "markdown",
      "source": [
        "elif\n",
        "\n",
        "Definición: Se utiliza para agregar una condición adicional en una estructura condicional."
      ],
      "metadata": {
        "id": "5GYluOAGaDSf"
      }
    },
    {
      "cell_type": "code",
      "source": [
        "x = 10\n",
        "if x > 10:\n",
        "    print(\"Mayor que 10\")\n",
        "elif x == 10:\n",
        "    print(\"Igual a 10\")\n",
        "else:\n",
        "    print(\"Menor que 10\")\n"
      ],
      "metadata": {
        "colab": {
          "base_uri": "https://localhost:8080/"
        },
        "id": "qSLgdYrmenq3",
        "outputId": "520e7675-8ad3-4c90-88ab-93ee1e9b26fc"
      },
      "execution_count": 12,
      "outputs": [
        {
          "output_type": "stream",
          "name": "stdout",
          "text": [
            "Igual a 10\n"
          ]
        }
      ]
    },
    {
      "cell_type": "markdown",
      "source": [
        "else\n",
        "\n",
        "Definición: Se utiliza para definir el bloque de código a ejecutar si ninguna condición previa es verdadera."
      ],
      "metadata": {
        "id": "u28RSEMiaEKD"
      }
    },
    {
      "cell_type": "code",
      "source": [
        "x = 5\n",
        "if x > 10:\n",
        "    print(\"Mayor que 10\")\n",
        "else:\n",
        "    print(\"Menor o igual a 10\")\n"
      ],
      "metadata": {
        "colab": {
          "base_uri": "https://localhost:8080/"
        },
        "id": "X7-AvhbteodI",
        "outputId": "37e91043-c6d7-42f1-a85f-f9c0166a06d8"
      },
      "execution_count": 13,
      "outputs": [
        {
          "output_type": "stream",
          "name": "stdout",
          "text": [
            "Menor o igual a 10\n"
          ]
        }
      ]
    },
    {
      "cell_type": "markdown",
      "source": [
        "except\n",
        "\n",
        "Definición: Se utiliza en el manejo de excepciones para capturar errores."
      ],
      "metadata": {
        "id": "l3P7-4MBaZwx"
      }
    },
    {
      "cell_type": "code",
      "source": [
        "try:\n",
        "    x = 1 / 0\n",
        "except ZeroDivisionError:\n",
        "    print(\"No se puede dividir por cero.\")\n"
      ],
      "metadata": {
        "colab": {
          "base_uri": "https://localhost:8080/"
        },
        "id": "oM47jWBieo11",
        "outputId": "9d4a583b-6a75-442d-cfb4-52cb162816de"
      },
      "execution_count": 14,
      "outputs": [
        {
          "output_type": "stream",
          "name": "stdout",
          "text": [
            "No se puede dividir por cero.\n"
          ]
        }
      ]
    },
    {
      "cell_type": "markdown",
      "source": [
        "finally\n",
        "\n",
        "Definición: Define un bloque de código que se ejecutará después del try y except, sin importar si hubo una excepción."
      ],
      "metadata": {
        "id": "ms_iMIixaaYG"
      }
    },
    {
      "cell_type": "code",
      "source": [
        "try:\n",
        "    x = 1 / 0\n",
        "except ZeroDivisionError:\n",
        "    print(\"Error de división.\")\n",
        "finally:\n",
        "    print(\"Esto se ejecuta siempre.\")\n"
      ],
      "metadata": {
        "colab": {
          "base_uri": "https://localhost:8080/"
        },
        "id": "nBvHqpvdfU2L",
        "outputId": "1c3e745a-a696-4148-84a6-ed2e89bbf10f"
      },
      "execution_count": 15,
      "outputs": [
        {
          "output_type": "stream",
          "name": "stdout",
          "text": [
            "Error de división.\n",
            "Esto se ejecuta siempre.\n"
          ]
        }
      ]
    },
    {
      "cell_type": "markdown",
      "source": [
        "for\n",
        "\n",
        "Definición: Se utiliza para iterar sobre una secuencia (lista, tupla, string)."
      ],
      "metadata": {
        "id": "GGUp4iYzabA6"
      }
    },
    {
      "cell_type": "code",
      "source": [
        "for i in range(3):\n",
        "    print(i)\n"
      ],
      "metadata": {
        "colab": {
          "base_uri": "https://localhost:8080/"
        },
        "id": "FBLg8tGCfVOS",
        "outputId": "8d204668-81e8-4e50-8425-cf4b7a18554a"
      },
      "execution_count": 16,
      "outputs": [
        {
          "output_type": "stream",
          "name": "stdout",
          "text": [
            "0\n",
            "1\n",
            "2\n"
          ]
        }
      ]
    },
    {
      "cell_type": "markdown",
      "source": [
        "from\n",
        "\n",
        "Definición: Se utiliza para importar partes específicas de un módulo."
      ],
      "metadata": {
        "id": "6JfYdehWaNbF"
      }
    },
    {
      "cell_type": "code",
      "source": [
        "from math import pi\n",
        "print(pi)\n"
      ],
      "metadata": {
        "colab": {
          "base_uri": "https://localhost:8080/"
        },
        "id": "Thxhf1fefWW9",
        "outputId": "7a122c7b-38af-45a4-9561-33a39ef505e8"
      },
      "execution_count": 17,
      "outputs": [
        {
          "output_type": "stream",
          "name": "stdout",
          "text": [
            "3.141592653589793\n"
          ]
        }
      ]
    },
    {
      "cell_type": "markdown",
      "source": [
        "global\n",
        "\n",
        "Definición: Declara que una variable dentro de una función es global."
      ],
      "metadata": {
        "id": "RmHH2aScaOU5"
      }
    },
    {
      "cell_type": "code",
      "source": [
        "x = 5\n",
        "def cambiar_valor():\n",
        "    global x\n",
        "    x = 10\n",
        "\n",
        "cambiar_valor()\n",
        "print(x)\n"
      ],
      "metadata": {
        "colab": {
          "base_uri": "https://localhost:8080/"
        },
        "id": "FcMHrxEufXZP",
        "outputId": "7650272b-beb7-447c-a3e8-53b76a25e9ff"
      },
      "execution_count": 18,
      "outputs": [
        {
          "output_type": "stream",
          "name": "stdout",
          "text": [
            "10\n"
          ]
        }
      ]
    },
    {
      "cell_type": "markdown",
      "source": [
        "if\n",
        "\n",
        "Definición: Se utiliza para crear una estructura condicional."
      ],
      "metadata": {
        "id": "rjCcMtzTaN1v"
      }
    },
    {
      "cell_type": "code",
      "source": [
        "x = 5\n",
        "if x > 0:\n",
        "    print(\"x es positivo\")\n"
      ],
      "metadata": {
        "colab": {
          "base_uri": "https://localhost:8080/"
        },
        "id": "bgwjpkUXfYt2",
        "outputId": "d184d7a3-28e2-47f7-e631-ff6b7b8a9d43"
      },
      "execution_count": 19,
      "outputs": [
        {
          "output_type": "stream",
          "name": "stdout",
          "text": [
            "x es positivo\n"
          ]
        }
      ]
    },
    {
      "cell_type": "markdown",
      "source": [
        "import\n",
        "\n",
        "Definición: Se utiliza para importar módulos.\n"
      ],
      "metadata": {
        "id": "aYfiMYz9atdN"
      }
    },
    {
      "cell_type": "code",
      "source": [
        "import math\n",
        "print(math.sqrt(16))\n"
      ],
      "metadata": {
        "colab": {
          "base_uri": "https://localhost:8080/"
        },
        "id": "IGanCUd2fZVU",
        "outputId": "9ba1cefa-e8ee-472c-b11b-1c275d70ce7d"
      },
      "execution_count": 20,
      "outputs": [
        {
          "output_type": "stream",
          "name": "stdout",
          "text": [
            "4.0\n"
          ]
        }
      ]
    },
    {
      "cell_type": "markdown",
      "source": [
        "in\n",
        "\n",
        "Definición: Se utiliza para verificar si un elemento está presente en una secuencia."
      ],
      "metadata": {
        "id": "pa1c6ok6atxV"
      }
    },
    {
      "cell_type": "code",
      "source": [
        "lista = [1, 2, 3]\n",
        "if 2 in lista:\n",
        "    print(\"2 está en la lista\")\n"
      ],
      "metadata": {
        "colab": {
          "base_uri": "https://localhost:8080/"
        },
        "id": "mH_Rb9knfaFC",
        "outputId": "c73b33b9-b62a-4d20-dc20-c59fe74d07ae"
      },
      "execution_count": 21,
      "outputs": [
        {
          "output_type": "stream",
          "name": "stdout",
          "text": [
            "2 está en la lista\n"
          ]
        }
      ]
    },
    {
      "cell_type": "markdown",
      "source": [
        "is\n",
        "\n",
        "Definición: Verifica si dos objetos apuntan al mismo espacio en memoria."
      ],
      "metadata": {
        "id": "q10xqOJwauJ6"
      }
    },
    {
      "cell_type": "code",
      "source": [
        "a = [1, 2, 3]\n",
        "b = a\n",
        "print(a is b)  # True\n"
      ],
      "metadata": {
        "colab": {
          "base_uri": "https://localhost:8080/"
        },
        "id": "6gcSa8jmfa69",
        "outputId": "66e6b251-c1c9-4ec6-ca13-39cf11bd432b"
      },
      "execution_count": 22,
      "outputs": [
        {
          "output_type": "stream",
          "name": "stdout",
          "text": [
            "True\n"
          ]
        }
      ]
    },
    {
      "cell_type": "markdown",
      "source": [
        "lambda\n",
        "\n",
        "Definición: Se utiliza para crear funciones anónimas pequeñas."
      ],
      "metadata": {
        "id": "ZyVMXzD8auv8"
      }
    },
    {
      "cell_type": "code",
      "source": [
        "suma = lambda x, y: x + y\n",
        "print(suma(2, 3))\n"
      ],
      "metadata": {
        "colab": {
          "base_uri": "https://localhost:8080/"
        },
        "id": "QoQLgq-dfbeM",
        "outputId": "0d63de83-6062-41d9-903f-af5a60c61724"
      },
      "execution_count": 23,
      "outputs": [
        {
          "output_type": "stream",
          "name": "stdout",
          "text": [
            "5\n"
          ]
        }
      ]
    },
    {
      "cell_type": "markdown",
      "source": [
        "nonlocal\n",
        "\n",
        "Definición: Permite modificar una variable de un ámbito externo en una función anidada."
      ],
      "metadata": {
        "id": "WE0zrqJpbGex"
      }
    },
    {
      "cell_type": "code",
      "source": [
        "def externa():\n",
        "    x = \"local\"\n",
        "    def interna():\n",
        "        nonlocal x\n",
        "        x = \"no local\"\n",
        "    interna()\n",
        "    print(x)\n",
        "externa()\n"
      ],
      "metadata": {
        "colab": {
          "base_uri": "https://localhost:8080/"
        },
        "id": "omhyWdmufb5l",
        "outputId": "9e407c74-f5aa-459c-bb66-4964051bdb15"
      },
      "execution_count": 24,
      "outputs": [
        {
          "output_type": "stream",
          "name": "stdout",
          "text": [
            "no local\n"
          ]
        }
      ]
    },
    {
      "cell_type": "markdown",
      "source": [
        "not\n",
        "\n",
        "Definición: Operador lógico que invierte el valor de verdad."
      ],
      "metadata": {
        "id": "_jVDzX4davaT"
      }
    },
    {
      "cell_type": "code",
      "source": [
        "is_raining = False\n",
        "if not is_raining:\n",
        "    print(\"No está lloviendo.\")\n"
      ],
      "metadata": {
        "colab": {
          "base_uri": "https://localhost:8080/"
        },
        "id": "HgNZuJFZf-VC",
        "outputId": "420254d3-b00d-4cd0-cb21-9450882c8da8"
      },
      "execution_count": 25,
      "outputs": [
        {
          "output_type": "stream",
          "name": "stdout",
          "text": [
            "No está lloviendo.\n"
          ]
        }
      ]
    },
    {
      "cell_type": "markdown",
      "source": [
        "or\n",
        "\n",
        "Definición: Operador lógico que retorna True si al menos una condición es verdadera."
      ],
      "metadata": {
        "id": "m6Hs-NgxbGzu"
      }
    },
    {
      "cell_type": "code",
      "source": [
        "is_sunny = False\n",
        "is_warm = True\n",
        "if is_sunny or is_warm:\n",
        "    print(\"Es un buen día para salir.\")\n"
      ],
      "metadata": {
        "colab": {
          "base_uri": "https://localhost:8080/"
        },
        "id": "aF1PEldof_b_",
        "outputId": "a6052395-e5db-428b-c7f9-656bc314f6c3"
      },
      "execution_count": 26,
      "outputs": [
        {
          "output_type": "stream",
          "name": "stdout",
          "text": [
            "Es un buen día para salir.\n"
          ]
        }
      ]
    },
    {
      "cell_type": "markdown",
      "source": [
        "pass\n",
        "\n",
        "Definición: Una sentencia nula, se utiliza cuando se requiere sintácticamente pero no se quiere ejecutar ninguna acción."
      ],
      "metadata": {
        "id": "Jh55E1v8bHM5"
      }
    },
    {
      "cell_type": "code",
      "source": [
        "def funcion_vacia():\n",
        "    pass\n"
      ],
      "metadata": {
        "id": "O3gUyb20f_1F"
      },
      "execution_count": 27,
      "outputs": []
    },
    {
      "cell_type": "markdown",
      "source": [
        "raise\n",
        "\n",
        "Definición: Lanza una excepción."
      ],
      "metadata": {
        "id": "TcaFMBC1bHl_"
      }
    },
    {
      "cell_type": "code",
      "source": [
        "def dividir(x, y):\n",
        "    if y == 0:\n",
        "        raise ValueError(\"No se puede dividir por cero.\")\n",
        "    return x / y\n"
      ],
      "metadata": {
        "id": "3mijH5oEgAN-"
      },
      "execution_count": 28,
      "outputs": []
    },
    {
      "cell_type": "markdown",
      "source": [
        "return\n",
        "\n",
        "Definición: Finaliza la ejecución de una función y devuelve un valor."
      ],
      "metadata": {
        "id": "hxszjfdCbH8y"
      }
    },
    {
      "cell_type": "code",
      "source": [
        "def dividir(x, y):\n",
        "    if y == 0:\n",
        "        raise ValueError(\"No se puede dividir por cero.\")\n",
        "    return x / y\n"
      ],
      "metadata": {
        "id": "-TlmHeJzgBIn"
      },
      "execution_count": 29,
      "outputs": []
    },
    {
      "cell_type": "markdown",
      "source": [
        "try\n",
        "\n",
        "Definición: Se utiliza para manejar excepciones y errores en un bloque de código."
      ],
      "metadata": {
        "id": "qgWyk9_IbIyv"
      }
    },
    {
      "cell_type": "code",
      "source": [
        "try:\n",
        "    x = int(\"hola\")\n",
        "except ValueError:\n",
        "    print(\"No se puede convertir 'hola' a entero.\")\n"
      ],
      "metadata": {
        "colab": {
          "base_uri": "https://localhost:8080/"
        },
        "id": "5echRBzQgBll",
        "outputId": "bdce268e-3980-4505-d5b6-54492e01cc75"
      },
      "execution_count": 30,
      "outputs": [
        {
          "output_type": "stream",
          "name": "stdout",
          "text": [
            "No se puede convertir 'hola' a entero.\n"
          ]
        }
      ]
    },
    {
      "cell_type": "markdown",
      "source": [
        "while\n",
        "\n",
        "Definición: Se utiliza para crear un bucle que se repite mientras una condición es verdadera."
      ],
      "metadata": {
        "id": "Djb8XNmjbIT7"
      }
    },
    {
      "cell_type": "code",
      "source": [
        "i = 0\n",
        "while i < 3:\n",
        "    print(i)\n",
        "    i += 1\n"
      ],
      "metadata": {
        "colab": {
          "base_uri": "https://localhost:8080/"
        },
        "id": "P_KCHGt_gCnY",
        "outputId": "47196a71-8b61-4579-810e-bdb3d7839e48"
      },
      "execution_count": 31,
      "outputs": [
        {
          "output_type": "stream",
          "name": "stdout",
          "text": [
            "0\n",
            "1\n",
            "2\n"
          ]
        }
      ]
    },
    {
      "cell_type": "markdown",
      "source": [
        "with\n",
        "Definición: Se utiliza para manejar recursos como archivos de manera eficiente y segura. Garantiza que los recursos se liberen automáticamente una vez que se termina de utilizarlos."
      ],
      "metadata": {
        "id": "w8HkvgBnbJI1"
      }
    },
    {
      "cell_type": "code",
      "source": [
        "with open('archivo_temporal.txt', 'w') as archivo:\n",
        "    archivo.write(\"Este es un archivo de prueba creado en el notebook.\")\n",
        "\n",
        "with open('archivo_temporal.txt', 'r') as archivo:\n",
        "    contenido = archivo.read()\n",
        "    print(contenido)\n",
        "\n"
      ],
      "metadata": {
        "colab": {
          "base_uri": "https://localhost:8080/"
        },
        "id": "blltY4FqgC-K",
        "outputId": "5966af71-fa76-45b3-efe0-e8b30fbb3fef"
      },
      "execution_count": 39,
      "outputs": [
        {
          "output_type": "stream",
          "name": "stdout",
          "text": [
            "Este es un archivo de prueba creado en el notebook.\n"
          ]
        }
      ]
    },
    {
      "cell_type": "markdown",
      "source": [
        "yield\n",
        "Definición: Se utiliza dentro de una función generadora para devolver un valor y pausar la ejecución de la función. Permite que la función se reanude desde donde se dejó la próxima vez que se llama."
      ],
      "metadata": {
        "id": "-N3t_jQgbcZN"
      }
    },
    {
      "cell_type": "code",
      "source": [
        "def generador():\n",
        "    yield 1\n",
        "    yield 2\n",
        "    yield 3\n",
        "\n",
        "for valor in generador():\n",
        "    print(valor)\n"
      ],
      "metadata": {
        "colab": {
          "base_uri": "https://localhost:8080/"
        },
        "id": "p0-4nB4_gEOv",
        "outputId": "01a7368f-cb46-4e8a-8206-5a266168fdd0"
      },
      "execution_count": 33,
      "outputs": [
        {
          "output_type": "stream",
          "name": "stdout",
          "text": [
            "1\n",
            "2\n",
            "3\n"
          ]
        }
      ]
    }
  ]
}