{
  "nbformat": 4,
  "nbformat_minor": 0,
  "metadata": {
    "colab": {
      "provenance": []
    },
    "kernelspec": {
      "name": "python3",
      "display_name": "Python 3"
    },
    "language_info": {
      "name": "python"
    }
  },
  "cells": [
    {
      "cell_type": "markdown",
      "source": [
        "Listas: Una lista en Python es un tipo de datos nativos construido dentro del lenguaje de programación Python. Estas listas son similares a matrices (o arrays) que se encuentran en otros lenguajes. Sin embargo, en Python se manejan como variables con muchos elementos. Aun así, las listas se consideran un tipo de datos para guardar colecciones de información."
      ],
      "metadata": {
        "id": "gu20wBB7hiQn"
      }
    },
    {
      "cell_type": "code",
      "execution_count": null,
      "metadata": {
        "id": "j9w3AHbCUUZL"
      },
      "outputs": [],
      "source": [
        "lista1 = [12,12,6,8,11,1]\n",
        "lista2 = [\"Juan\",\"José\",\"Aguilar\",\"Juan\",\"Pablo\",\"Aguilar\"]\n"
      ]
    },
    {
      "cell_type": "code",
      "source": [
        "#1. append()\n",
        "#Definición: Agrega un elemento al final de la lista.\n",
        "\n",
        "lista1.append(10)\n",
        "print(lista1)"
      ],
      "metadata": {
        "colab": {
          "base_uri": "https://localhost:8080/"
        },
        "id": "0E-3MwZulbRt",
        "outputId": "849be50c-0b29-4eca-c959-90d0a31633b0"
      },
      "execution_count": null,
      "outputs": [
        {
          "output_type": "stream",
          "name": "stdout",
          "text": [
            "[12, 12, 6, 8, 11, 1, 10]\n"
          ]
        }
      ]
    },
    {
      "cell_type": "code",
      "source": [
        "#2. extend()\n",
        "#Definición: Extiende la lista agregando todos los elementos de una lista iterable al final.\n",
        "\n",
        "lista1.extend(lista2)\n",
        "print(lista1)"
      ],
      "metadata": {
        "colab": {
          "base_uri": "https://localhost:8080/"
        },
        "id": "KaJJWOp2ljtB",
        "outputId": "0a80a76f-f853-4c1b-afd5-87023aa4cc7a"
      },
      "execution_count": null,
      "outputs": [
        {
          "output_type": "stream",
          "name": "stdout",
          "text": [
            "[12, 12, 6, 8, 11, 1, 10, 'Juan', 'José', 'Aguilar', 'Juan', 'Pablo', 'Aguilar']\n"
          ]
        }
      ]
    },
    {
      "cell_type": "code",
      "source": [
        "#3. insert()\n",
        "#Definición: Inserta un elemento en una posición específica.\n",
        "\n",
        "lista1.insert(2,100)\n",
        "print(lista1)"
      ],
      "metadata": {
        "colab": {
          "base_uri": "https://localhost:8080/"
        },
        "id": "48CqBAGglpgZ",
        "outputId": "1edc027b-f28c-4d35-c89c-09078372c1fa"
      },
      "execution_count": null,
      "outputs": [
        {
          "output_type": "stream",
          "name": "stdout",
          "text": [
            "[12, 12, 100, 6, 8, 11, 1, 10, 'Juan', 'José', 'Aguilar', 'Juan', 'Pablo', 'Aguilar']\n"
          ]
        }
      ]
    },
    {
      "cell_type": "code",
      "source": [
        "#4. remove()\n",
        "#Definición: Elimina la primera ocurrencia de un elemento en la lista.\n",
        "\n",
        "lista1.remove(12)\n",
        "print(lista1)"
      ],
      "metadata": {
        "colab": {
          "base_uri": "https://localhost:8080/"
        },
        "id": "A4pPIFKklsAr",
        "outputId": "33e2d697-821f-4967-a113-09932b81347a"
      },
      "execution_count": null,
      "outputs": [
        {
          "output_type": "stream",
          "name": "stdout",
          "text": [
            "[12, 100, 6, 8, 11, 1, 10, 'Juan', 'José', 'Aguilar', 'Juan', 'Pablo', 'Aguilar']\n"
          ]
        }
      ]
    },
    {
      "cell_type": "code",
      "source": [
        "#5. pop()\n",
        "#Definición: Elimina y devuelve el elemento en la posición dada (por defecto, el último).\n",
        "\n",
        "lista1.pop()\n",
        "print(lista1)"
      ],
      "metadata": {
        "colab": {
          "base_uri": "https://localhost:8080/"
        },
        "id": "jfq_kAUilvvr",
        "outputId": "f06ab2a1-8043-4d83-ff70-a379b6b9a169"
      },
      "execution_count": null,
      "outputs": [
        {
          "output_type": "stream",
          "name": "stdout",
          "text": [
            "[12, 100, 6, 8, 11, 1, 10, 'Juan', 'José', 'Aguilar', 'Juan', 'Pablo']\n"
          ]
        }
      ]
    },
    {
      "cell_type": "code",
      "source": [
        "#6. clear()\n",
        "#Definición: Elimina todos los elementos de la lista.\n",
        "\n",
        "lista1.clear()\n",
        "print(lista1)"
      ],
      "metadata": {
        "colab": {
          "base_uri": "https://localhost:8080/"
        },
        "id": "7Y_lyKG7lyJk",
        "outputId": "210566a5-84c5-4346-dca3-21275b062f60"
      },
      "execution_count": null,
      "outputs": [
        {
          "output_type": "stream",
          "name": "stdout",
          "text": [
            "[]\n"
          ]
        }
      ]
    },
    {
      "cell_type": "code",
      "source": [
        "#7. index()\n",
        "#Definición: Devuelve el índice de la primera aparición de un valor en la lista.\n",
        "\n",
        "posicion = lista2.index(\"Juan\")\n",
        "print(posicion)  # 0\n"
      ],
      "metadata": {
        "colab": {
          "base_uri": "https://localhost:8080/"
        },
        "id": "sDJt7s2Ol1Sn",
        "outputId": "b83db333-1031-446a-b382-8adf1375c5f5"
      },
      "execution_count": null,
      "outputs": [
        {
          "output_type": "stream",
          "name": "stdout",
          "text": [
            "0\n"
          ]
        }
      ]
    },
    {
      "cell_type": "code",
      "source": [
        "#8. count()\n",
        "#Definición: Cuenta el número de veces que un valor aparece en la lista.\n",
        "\n",
        "repeticiones = lista2.count(\"Juan\")\n",
        "print(repeticiones)  # 2"
      ],
      "metadata": {
        "colab": {
          "base_uri": "https://localhost:8080/"
        },
        "id": "mUz0kFB2l40P",
        "outputId": "6e7ddd41-7450-4ffd-a5fa-52d12d461577"
      },
      "execution_count": null,
      "outputs": [
        {
          "output_type": "stream",
          "name": "stdout",
          "text": [
            "2\n"
          ]
        }
      ]
    },
    {
      "cell_type": "code",
      "source": [
        "#9. sort()\n",
        "#Definición: Ordena los elementos de la lista en orden ascendente o en el orden que se especifique.\n",
        "\n",
        "lista1.sort()\n",
        "print(lista1)"
      ],
      "metadata": {
        "colab": {
          "base_uri": "https://localhost:8080/"
        },
        "id": "36uCMrgNl6dw",
        "outputId": "51f98d5e-e167-48d6-8bf6-e8cc513e15a5"
      },
      "execution_count": null,
      "outputs": [
        {
          "output_type": "stream",
          "name": "stdout",
          "text": [
            "[]\n"
          ]
        }
      ]
    },
    {
      "cell_type": "code",
      "source": [
        "#10. reverse()\n",
        "#Definición: Invierte el orden de los elementos en la lista.\n",
        "\n",
        "lista1.reverse()\n",
        "print(lista1)"
      ],
      "metadata": {
        "colab": {
          "base_uri": "https://localhost:8080/"
        },
        "id": "_K_JrwAkl8f0",
        "outputId": "99c031db-efb4-4208-f6e4-329793c1a425"
      },
      "execution_count": null,
      "outputs": [
        {
          "output_type": "stream",
          "name": "stdout",
          "text": [
            "[]\n"
          ]
        }
      ]
    },
    {
      "cell_type": "markdown",
      "source": [
        "Diccionarios: Un diccionario Python es una estructura de datos para trabajar con colecciones de datos almacenados en pares de claves/valores. Los diccionarios se ordenan (según Python 3,7) y son mutables. Pueden soportar cambios después de su creación, pero son estrictos acerca de entradas duplicadas. Todas las claves/valores deben ser únicos."
      ],
      "metadata": {
        "id": "DTAh_a5Aj6f2"
      }
    },
    {
      "cell_type": "code",
      "source": [
        "dict1 = {\"nombre\":\"Juan\",\"apellido\":\"Aguilar\"}\n",
        "dict2 = {\"dia\":12,\"mes\":12,\"año\":2006}"
      ],
      "metadata": {
        "id": "3J28PuDaj5T6"
      },
      "execution_count": null,
      "outputs": []
    },
    {
      "cell_type": "code",
      "source": [
        "#1. get()\n",
        "#Definición: Devuelve el valor de la clave especificada. Si la clave no existe, devuelve un valor por defecto (opcional).\n",
        "\n",
        "nombre = dict1.get(\"nombre\",\"No existe\")\n",
        "print(nombre)"
      ],
      "metadata": {
        "colab": {
          "base_uri": "https://localhost:8080/"
        },
        "id": "x4mkaDMxnNru",
        "outputId": "fd0c98b2-3d57-42a9-c666-4b893969da08"
      },
      "execution_count": null,
      "outputs": [
        {
          "output_type": "stream",
          "name": "stdout",
          "text": [
            "Juan\n"
          ]
        }
      ]
    },
    {
      "cell_type": "code",
      "source": [
        "#2. keys()\n",
        "#Definición: Devuelve una vista de todas las claves en el diccionario.\n",
        "\n",
        "claves = dict1.keys()\n",
        "print(claves)"
      ],
      "metadata": {
        "colab": {
          "base_uri": "https://localhost:8080/"
        },
        "id": "YN8smi2LnT0l",
        "outputId": "62036814-c679-4013-e2bc-5b3039f8127b"
      },
      "execution_count": null,
      "outputs": [
        {
          "output_type": "stream",
          "name": "stdout",
          "text": [
            "dict_keys(['nombre', 'apellido'])\n"
          ]
        }
      ]
    },
    {
      "cell_type": "code",
      "source": [
        "#3. values()\n",
        "#Definición: Devuelve una vista de todos los valores en el diccionario.\n",
        "\n",
        "valores = dict1.values()\n",
        "print(valores)"
      ],
      "metadata": {
        "colab": {
          "base_uri": "https://localhost:8080/"
        },
        "id": "DXD0Ei6XnVCd",
        "outputId": "0c64a11c-6d17-4199-a708-263f6e1e7222"
      },
      "execution_count": null,
      "outputs": [
        {
          "output_type": "stream",
          "name": "stdout",
          "text": [
            "dict_values(['Juan', 'Aguilar'])\n"
          ]
        }
      ]
    },
    {
      "cell_type": "code",
      "source": [
        "#4. items()\n",
        "#Definición: Devuelve una vista de los pares clave-valor como tuplas.\n",
        "\n",
        "items = dict1.items()\n",
        "print(items)"
      ],
      "metadata": {
        "colab": {
          "base_uri": "https://localhost:8080/"
        },
        "id": "lkgiXrJ-nU58",
        "outputId": "9095eb74-380c-4429-81a5-32dbb64ab5aa"
      },
      "execution_count": null,
      "outputs": [
        {
          "output_type": "stream",
          "name": "stdout",
          "text": [
            "dict_items([('nombre', 'Juan'), ('apellido', 'Aguilar')])\n"
          ]
        }
      ]
    },
    {
      "cell_type": "code",
      "source": [
        "#5. update()\n",
        "#Definición: Actualiza el diccionario con pares clave-valor de otro diccionario o de un iterable.\n",
        "\n",
        "dict1.update(dict2)\n",
        "print(dict1)"
      ],
      "metadata": {
        "colab": {
          "base_uri": "https://localhost:8080/"
        },
        "id": "2A2iIRNQnUvf",
        "outputId": "a8200c58-adf8-4d98-d2bc-7fd79213e162"
      },
      "execution_count": null,
      "outputs": [
        {
          "output_type": "stream",
          "name": "stdout",
          "text": [
            "{'nombre': 'Juan', 'apellido': 'Aguilar', 'dia': 12, 'mes': 12, 'año': 2006}\n"
          ]
        }
      ]
    },
    {
      "cell_type": "code",
      "source": [
        "#6. pop()\n",
        "#Definición: Elimina la clave especificada y devuelve su valor. Si la clave no existe, se puede devolver un valor por defecto.\n",
        "\n",
        "diccionario = {'a': 1, 'b': 2, 'c': 3}\n",
        "valor_eliminado = diccionario.pop('b')\n",
        "print(valor_eliminado)"
      ],
      "metadata": {
        "colab": {
          "base_uri": "https://localhost:8080/"
        },
        "id": "2ETZY68anUlR",
        "outputId": "fbaa8dc6-d71a-44fd-e450-11894a4ad5fe"
      },
      "execution_count": null,
      "outputs": [
        {
          "output_type": "stream",
          "name": "stdout",
          "text": [
            "2\n"
          ]
        }
      ]
    },
    {
      "cell_type": "code",
      "source": [
        "#7. popitem()\n",
        "#Definición: Elimina y devuelve el último par clave-valor añadido en el diccionario.\n",
        "\n",
        "diccionario = {'a': 1, 'b': 2, 'c': 3}\n",
        "ultimo_par = diccionario.popitem()\n",
        "print(ultimo_par)\n"
      ],
      "metadata": {
        "colab": {
          "base_uri": "https://localhost:8080/"
        },
        "id": "eqdoyGrrnUFO",
        "outputId": "5e911741-86f9-45ae-8b06-80a971801a4d"
      },
      "execution_count": null,
      "outputs": [
        {
          "output_type": "stream",
          "name": "stdout",
          "text": [
            "('c', 3)\n"
          ]
        }
      ]
    },
    {
      "cell_type": "code",
      "source": [
        "#8. setdefault()\n",
        "#Definición: Devuelve el valor de una clave si existe, de lo contrario, establece la clave con un valor por defecto.\n",
        "\n",
        "diccionario = {'a': 1, 'b': 2, 'c': 3}\n",
        "valor = diccionario.setdefault('b', 4)\n",
        "print(valor)\n"
      ],
      "metadata": {
        "colab": {
          "base_uri": "https://localhost:8080/"
        },
        "id": "9RM8vhHFoHz7",
        "outputId": "92666f57-3bf3-4b24-d7f3-0aa0b602a070"
      },
      "execution_count": null,
      "outputs": [
        {
          "output_type": "stream",
          "name": "stdout",
          "text": [
            "2\n"
          ]
        }
      ]
    },
    {
      "cell_type": "code",
      "source": [
        "#9. clear()\n",
        "#Definición: Elimina todos los elementos del diccionario, dejándolo vacío.\n",
        "\n",
        "diccionario = {'a': 1, 'b': 2, 'c': 3}\n",
        "diccionario.clear()\n",
        "print(diccionario)\n"
      ],
      "metadata": {
        "colab": {
          "base_uri": "https://localhost:8080/"
        },
        "id": "UkeduZ5LoIDr",
        "outputId": "5cd793b1-e223-4374-dbfe-e230c4fc429b"
      },
      "execution_count": null,
      "outputs": [
        {
          "output_type": "stream",
          "name": "stdout",
          "text": [
            "{}\n"
          ]
        }
      ]
    },
    {
      "cell_type": "code",
      "source": [
        "#10. copy()\n",
        "#Definición: Devuelve una copia superficial del diccionario.\n",
        "\n",
        "diccionario = {'a': 1, 'b': 2, 'c': 3}\n",
        "copia = diccionario.copy()\n",
        "print(copia)\n"
      ],
      "metadata": {
        "colab": {
          "base_uri": "https://localhost:8080/"
        },
        "id": "o9C6T_ELoLvC",
        "outputId": "cb36a26b-f731-4df5-d23a-02bc9968e825"
      },
      "execution_count": null,
      "outputs": [
        {
          "output_type": "stream",
          "name": "stdout",
          "text": [
            "{'a': 1, 'b': 2, 'c': 3}\n"
          ]
        }
      ]
    },
    {
      "cell_type": "markdown",
      "source": [
        "##Ejercicios Listas"
      ],
      "metadata": {
        "id": "geOrx1b41AM8"
      }
    },
    {
      "cell_type": "code",
      "source": [
        "#1. Dada la lista: list1 = [100, 200, 300, 400, 500], se desea que imprima [500, 400, 300,\n",
        "#200, 100]\n",
        "\n",
        "list1 = [100, 200, 300, 400, 500]\n",
        "list1.reverse()\n",
        "print(list1)\n"
      ],
      "metadata": {
        "id": "CENTuU7hwapM",
        "colab": {
          "base_uri": "https://localhost:8080/"
        },
        "outputId": "fbd516d6-34d8-4345-b411-d702c4fb08da"
      },
      "execution_count": null,
      "outputs": [
        {
          "output_type": "stream",
          "name": "stdout",
          "text": [
            "[500, 400, 300, 200, 100]\n"
          ]
        }
      ]
    },
    {
      "cell_type": "code",
      "source": [
        "#2. Escriba un programa que unas dos listas, de tal forma que\n",
        "#lista1 = [\"M\", \"nom\", \"e\", \"e\"]\n",
        "#lista2 = [\"i\", \"bre\", \"s\", “quis\"]\n",
        "#da como resultado ['Mi', 'nombre', 'es', 'equis'] (reemplazar el nombre por el del\n",
        "#estudiante)\n",
        "\n",
        "lista1 = [\"M\", \"nom\", \"e\", \"J\"]\n",
        "lista2 = [\"i\", \"bre\", \"s\", \"uanJo\"]\n",
        "\n",
        "resultado = [a + b for a, b in zip(lista1, lista2)]\n",
        "\n",
        "print(resultado)\n"
      ],
      "metadata": {
        "colab": {
          "base_uri": "https://localhost:8080/"
        },
        "id": "95zxWIgJ1KcA",
        "outputId": "6a8c2d51-47ca-4539-e284-6cbba21244e8"
      },
      "execution_count": null,
      "outputs": [
        {
          "output_type": "stream",
          "name": "stdout",
          "text": [
            "['Mi', 'nombre', 'es', 'JuanJo']\n"
          ]
        }
      ]
    },
    {
      "cell_type": "code",
      "source": [
        "#3. Desarrolle un programa que calcule el doble de cada uno de los elementos de una\n",
        "#lista. Ejemplo: si la lista es [1, 2, 3, 4, 5, 6, 7] da como resultado [1, 4, 9, 16, 25, 36,\n",
        "#49].\n",
        "\n",
        "lista = [1, 2, 3, 4, 5, 6, 7]\n",
        "resultado = [x * 2 for x in lista]\n",
        "print(resultado)"
      ],
      "metadata": {
        "colab": {
          "base_uri": "https://localhost:8080/"
        },
        "id": "S9YG4Fxb1Ywc",
        "outputId": "15d7690b-67be-4cf4-cc5b-33d4edb9741b"
      },
      "execution_count": null,
      "outputs": [
        {
          "output_type": "stream",
          "name": "stdout",
          "text": [
            "[2, 4, 6, 8, 10, 12, 14]\n"
          ]
        }
      ]
    },
    {
      "cell_type": "code",
      "source": [
        "#4. Dadas dos listas\n",
        "#a. lista1 = [\"Hola \", \"toma \"]\n",
        "#b. lista2 = [\"Querido\", \"Señor\"]\n",
        "#desarrollar un programe que de como resultado [“Hola Querido”, “Hola Señor”,\n",
        "#'toma Querido”, 'toma Señor']\n",
        "\n",
        "lista1 = [\"Hola \", \"toma \"]\n",
        "lista2 = [\"Querido\", \"Señor\"]\n",
        "\n",
        "resultado = [a + b for a in lista1 for b in lista2]\n",
        "\n",
        "print(resultado)"
      ],
      "metadata": {
        "colab": {
          "base_uri": "https://localhost:8080/"
        },
        "id": "DBP_gRzz1vNz",
        "outputId": "2158a084-63a9-4f3c-e6e7-cace1759ca74"
      },
      "execution_count": null,
      "outputs": [
        {
          "output_type": "stream",
          "name": "stdout",
          "text": [
            "['Hola Querido', 'Hola Señor', 'toma Querido', 'toma Señor']\n"
          ]
        }
      ]
    },
    {
      "cell_type": "code",
      "source": [
        "#5. Dadas dos listas\n",
        "#list1 = [10, 20, 30, 40]\n",
        "#list2 = [100, 200, 300, 400]\n",
        "#se desea construir un programa que imprima\n",
        "#10 400\n",
        "#20 300\n",
        "#30 200\n",
        "#40 100\n",
        "\n",
        "list1 = [10, 20, 30, 40]\n",
        "list2 = [100, 200, 300, 400]\n",
        "\n",
        "for i in range(len(list1)):\n",
        "    print(list1[i], list2[len(list1) - 1 - i])\n",
        "\n"
      ],
      "metadata": {
        "colab": {
          "base_uri": "https://localhost:8080/"
        },
        "id": "phyeOdns2pJY",
        "outputId": "46444781-899c-411c-fbe9-601f40f703f6"
      },
      "execution_count": null,
      "outputs": [
        {
          "output_type": "stream",
          "name": "stdout",
          "text": [
            "10 400\n",
            "20 300\n",
            "30 200\n",
            "40 100\n"
          ]
        }
      ]
    },
    {
      "cell_type": "code",
      "source": [
        "#6. Dada la lista [\"Mike\", \"\", \"Emma\", \"Kelly\", \"\", \"Brad\"] se desea un programa que\n",
        "#elimine el elemento vacío.\n",
        "\n",
        "lista = [\"Mike\", \"\", \"Emma\", \"Kelly\", \"\", \"Brad\"]\n",
        "lista = list(filter(None, lista))\n",
        "print(lista)"
      ],
      "metadata": {
        "colab": {
          "base_uri": "https://localhost:8080/"
        },
        "id": "WqnH8As73Z-Q",
        "outputId": "0b142357-35d6-4a81-f769-75bef71db4e5"
      },
      "execution_count": null,
      "outputs": [
        {
          "output_type": "stream",
          "name": "stdout",
          "text": [
            "['Mike', 'Emma', 'Kelly', 'Brad']\n"
          ]
        }
      ]
    },
    {
      "cell_type": "code",
      "source": [
        "#7. Dada la lista [10, 20, [300, 400, [5000, 6000], 500], 30, 40] se desea un programa\n",
        "#que genere el siguiente resultado: [10, 20, [300, 400, [5000, 6000, 7000], 500], 30,\n",
        "#40]\n",
        "\n",
        "lista = [10, 20, [300, 400, [5000, 6000], 500], 30, 40]\n",
        "\n",
        "lista[2][2].append(7000)\n",
        "\n",
        "print(lista)\n"
      ],
      "metadata": {
        "colab": {
          "base_uri": "https://localhost:8080/"
        },
        "id": "hqaJNh783ovN",
        "outputId": "785fe332-8b90-48a4-c37b-4cdc7e7a0b3c"
      },
      "execution_count": null,
      "outputs": [
        {
          "output_type": "stream",
          "name": "stdout",
          "text": [
            "[10, 20, [300, 400, [5000, 6000, 7000], 500], 30, 40]\n"
          ]
        }
      ]
    },
    {
      "cell_type": "code",
      "source": [
        "#8. Dada dos listas\n",
        "#lista1= [\"a\", \"b\", [\"c\", [\"d\", \"e\", [\"f\", \"g\"], \"k\"], \"l\"], \"m\", \"n\"]\n",
        "#lista 2= [\"h\", \"i\", \"j\"]\n",
        "#se desea un programa que imprima lo siguiente:\n",
        "#['a', 'b', ['c', ['d', 'e', ['f', 'g', 'h', 'i', 'j'], 'k'], 'l'], 'm', 'n']\n",
        "\n",
        "lista1 = [\"a\", \"b\", [\"c\", [\"d\", \"e\", [\"f\", \"g\"], \"k\"], \"l\"], \"m\", \"n\"]\n",
        "lista2 = [\"h\", \"i\", \"j\"]\n",
        "\n",
        "lista1[2][1][2].extend(lista2)\n",
        "print(lista1)\n",
        "\n"
      ],
      "metadata": {
        "colab": {
          "base_uri": "https://localhost:8080/"
        },
        "id": "uFKpcVam37cq",
        "outputId": "9d370322-a334-42b6-cf5f-087a9483cc7a"
      },
      "execution_count": null,
      "outputs": [
        {
          "output_type": "stream",
          "name": "stdout",
          "text": [
            "['a', 'b', ['c', ['d', 'e', ['f', 'g', 'h', 'i', 'j'], 'k'], 'l'], 'm', 'n']\n"
          ]
        }
      ]
    },
    {
      "cell_type": "code",
      "source": [
        "#9. Dada la lista [5, 10, 15, 20, 25, 50, 20] se desea un programa que reemplace el\n",
        "#número de la mitad por 200.\n",
        "\n",
        "lista = [5, 10, 15, 20, 25, 50, 20]\n",
        "\n",
        "mitad = len(lista) // 2\n",
        "\n",
        "lista[mitad] = 200\n",
        "\n",
        "print(lista)"
      ],
      "metadata": {
        "colab": {
          "base_uri": "https://localhost:8080/"
        },
        "id": "OfQ7rCEx4P9J",
        "outputId": "b7e0ef08-8708-463e-809b-89a0df7a415c"
      },
      "execution_count": null,
      "outputs": [
        {
          "output_type": "stream",
          "name": "stdout",
          "text": [
            "[5, 10, 15, 200, 25, 50, 20]\n"
          ]
        }
      ]
    },
    {
      "cell_type": "code",
      "source": [
        "#10.Construya un programa que elimine de una lista todos los duplicados. Ejemplo, si\n",
        "#se tiene una lista [5, 20, 15, 20, 25, 50, 20] imprime [5, 15, 25, 50]\n",
        "\n",
        "lista = [5, 20, 15, 20, 25, 50, 20]\n",
        "nueva_lista = []\n",
        "\n",
        "for elemento in lista:\n",
        "  if elemento not in nueva_lista:\n",
        "    nueva_lista.append(elemento)\n",
        "\n",
        "print(nueva_lista)\n",
        "\n"
      ],
      "metadata": {
        "colab": {
          "base_uri": "https://localhost:8080/"
        },
        "id": "L-3nFST-4WwF",
        "outputId": "40986b66-142f-4ee1-a770-0d9eb6b061ac"
      },
      "execution_count": null,
      "outputs": [
        {
          "output_type": "stream",
          "name": "stdout",
          "text": [
            "[5, 20, 15, 25, 50]\n"
          ]
        }
      ]
    },
    {
      "cell_type": "code",
      "source": [
        "#11.Construya una programa que cuente cuántas veces se repitan los elementos de una\n",
        "#lista. Ejemplo, si se tiene una lista [5, 20, 15, 20, 25, 50, 20] imprima:\n",
        "#5 = 1\n",
        "#20 = 3\n",
        "#15 = 1\n",
        "#25= 1\n",
        "#50 = 1\n",
        "\n",
        "lista = [5, 20, 15, 20, 25, 50, 20]\n",
        "\n",
        "for elemento in lista:\n",
        "  contador = lista.count(elemento)\n",
        "  print(f\"{elemento} = {contador}\")"
      ],
      "metadata": {
        "colab": {
          "base_uri": "https://localhost:8080/"
        },
        "id": "2KJmBtfQ4rME",
        "outputId": "0a4f39fb-6cc2-4252-ba2d-30dbdf4d62e0"
      },
      "execution_count": null,
      "outputs": [
        {
          "output_type": "stream",
          "name": "stdout",
          "text": [
            "5 = 1\n",
            "20 = 3\n",
            "15 = 1\n",
            "20 = 3\n",
            "25 = 1\n",
            "50 = 1\n",
            "20 = 3\n"
          ]
        }
      ]
    },
    {
      "cell_type": "code",
      "source": [
        "#12.Construya un programa que ordene los elementos de una lista de menor a mayor o\n",
        "#viceversa.\n",
        "\n",
        "lista = [5, 20, 15, 20, 25, 50, 20]\n",
        "lista.sort()\n",
        "print(lista)"
      ],
      "metadata": {
        "colab": {
          "base_uri": "https://localhost:8080/"
        },
        "id": "7Wd_WNFU5Kkg",
        "outputId": "14f2ca3b-53cb-43a1-e86b-6660952d3f1c"
      },
      "execution_count": null,
      "outputs": [
        {
          "output_type": "stream",
          "name": "stdout",
          "text": [
            "[5, 15, 20, 20, 20, 25, 50]\n"
          ]
        }
      ]
    },
    {
      "cell_type": "code",
      "source": [
        "\n",
        "\n",
        "lista = [5, 20, 15, 20, 25, 50, 20]\n",
        "lista.sort(reverse=True)\n",
        "print(lista)"
      ],
      "metadata": {
        "colab": {
          "base_uri": "https://localhost:8080/"
        },
        "id": "7Sadgsy65IYy",
        "outputId": "ca75b779-371f-44e8-ad11-9c8a505e8835"
      },
      "execution_count": null,
      "outputs": [
        {
          "output_type": "stream",
          "name": "stdout",
          "text": [
            "[50, 25, 20, 20, 20, 15, 5]\n"
          ]
        }
      ]
    },
    {
      "cell_type": "code",
      "source": [
        "#13. Escriba un programa en Python que le permita al usuario obtener de una lista:\n",
        "#a. La suma de todos sus elementos\n",
        "#b. La multiplicación de todos sus elementos\n",
        "#c. El número mayor\n",
        "#d. El número menor\n",
        "\n",
        "\n",
        "lista = input(\"Ingresa los elementos de la lista separados por comas: \").split(\",\")\n",
        "lista = [int(elemento) for elemento in lista]  # Convertir a enteros\n",
        "\n",
        "print(\"Suma:\", sum(lista))\n",
        "print(\"Multiplicación:\", 1 if not lista else lista[0] * (1 if len(lista) == 1 else lista[1] * (1 if len(lista) == 2 else lista[2] * (1 if len(lista) == 3 else lista[3] * (1 if len(lista) == 4 else lista[4] * (1 if len(lista) == 5 else lista[5] * (1 if len(lista) == 6 else lista[6] * (1 if len(lista) == 7 else lista[7] * (1 if len(lista) == 8 else lista[8] * (1 if len(lista) == 9 else lista[9] * (1 if len(lista) == 10 else lista[10] * (1 if len(lista) == 11 else lista[11] * (1 if len(lista) == 12 else lista[12] * (1 if len(lista) == 13 else lista[13] * (1 if len(lista) == 14 else lista[14] * (1 if len(lista) == 15 else lista[15] * (1 if len(lista) == 16 else lista[16] * (1 if len(lista) == 17 else lista[17] * (1 if len(lista) == 18 else lista[18] * (1 if len(lista) == 19 else lista[19] * (1 if len(lista) == 20 else lista[20])))))))))))))))))))))\n",
        "print(\"Número mayor:\", max(lista))\n",
        "print(\"Número menor:\", min(lista))\n"
      ],
      "metadata": {
        "colab": {
          "base_uri": "https://localhost:8080/"
        },
        "id": "c9kwGGxM53J9",
        "outputId": "3a7999cf-18c3-4b79-9a7e-44e0cd0cf586"
      },
      "execution_count": null,
      "outputs": [
        {
          "output_type": "stream",
          "name": "stdout",
          "text": [
            "Ingresa los elementos de la lista separados por comas: 2,3,4,5,6,7\n",
            "Suma: 27\n",
            "Multiplicación: 5040\n",
            "Número mayor: 7\n",
            "Número menor: 2\n"
          ]
        }
      ]
    },
    {
      "cell_type": "code",
      "source": [
        "#14. Escriba un programa que calcule la diferencia entre dos listas.\n",
        "\n",
        "lista1 = [1, 2, 3, 4, 5]\n",
        "lista2 = [3, 4, 5, 6, 7]\n",
        "\n",
        "diferencia = list(set(lista1) - set(lista2))\n",
        "\n",
        "print(diferencia)"
      ],
      "metadata": {
        "colab": {
          "base_uri": "https://localhost:8080/"
        },
        "id": "lav-lt0o6d5f",
        "outputId": "bd5ae92a-cb7f-4cad-eb4c-bb070ab073b2"
      },
      "execution_count": null,
      "outputs": [
        {
          "output_type": "stream",
          "name": "stdout",
          "text": [
            "[1, 2]\n"
          ]
        }
      ]
    },
    {
      "cell_type": "code",
      "source": [
        "#15. Escriba un programa que permita identificar el segundo y tercer elemento menor de\n",
        "#una lista de 10 elementos.\n",
        "\n",
        "lista = [5, 2, 8, 1, 9, 3, 7, 4, 6, 10]\n",
        "\n",
        "\n",
        "lista.sort()\n",
        "\n",
        "lista_sin_duplicados = list(set(lista))\n",
        "lista_sin_duplicados.sort()\n",
        "\n",
        "\n",
        "if len(lista_sin_duplicados) >= 3:\n",
        "  print(\"Segundo elemento menor:\", lista_sin_duplicados[1])\n",
        "  print(\"Tercer elemento menor:\", lista_sin_duplicados[2])\n",
        "else:\n",
        "  print(\"La lista no tiene suficientes elementos únicos.\")\n"
      ],
      "metadata": {
        "colab": {
          "base_uri": "https://localhost:8080/"
        },
        "id": "OkzAx63v7G3I",
        "outputId": "9f9e5c8e-a0d9-4fc1-8d7d-36a6a1ac8af7"
      },
      "execution_count": null,
      "outputs": [
        {
          "output_type": "stream",
          "name": "stdout",
          "text": [
            "Segundo elemento menor: 2\n",
            "Tercer elemento menor: 3\n"
          ]
        }
      ]
    },
    {
      "cell_type": "code",
      "source": [
        "#16.Crear un programa que cree múltiples listas de una lista principal, de tal forma que:\n",
        "#a. La primera lista es la suma del segundo elemento con el primero.\n",
        "#b. La segunda lista es la resta del segundo elemento con el primero. Si el\n",
        "#número da negativo, se reemplaza con 0.\n",
        "#c. La tercera lista multiplica cada uno de los elementos *2\n",
        "#d. La cuarta lista eleva cada uno de los elementos al cuadrado.\n",
        "#Ejemplo: Sea la lista [5, 20, 15, 20, 25, 50, 20] el programa imprime:\n",
        "#Lista1= [25,35,35,45,75,70]\n",
        "#Lista2=[0,0,5,5,25,0]\n",
        "#Lista3=[10,40,30,40,50,100,40]\n",
        "#Lista4=[25,400,225,400,625,2500,400]\n",
        "\n",
        "lista_principal = [5, 20, 15, 20, 25, 50, 20]\n",
        "\n",
        "lista1 = [lista_principal[i] + lista_principal[i + 1] for i in range(len(lista_principal) - 1)]\n",
        "lista2 = [(lista_principal[i + 1] - lista_principal[i] if lista_principal[i + 1] - lista_principal[i] >= 0 else 0) for i in range(len(lista_principal) - 1)]\n",
        "lista3 = [x * 2 for x in lista_principal]\n",
        "lista4 = [x**2 for x in lista_principal]\n",
        "\n",
        "print(\"Lista1 =\", lista1)\n",
        "print(\"Lista2 =\", lista2)\n",
        "print(\"Lista3 =\", lista3)\n",
        "print(\"Lista4 =\", lista4)\n"
      ],
      "metadata": {
        "colab": {
          "base_uri": "https://localhost:8080/"
        },
        "id": "XM_NF93z7dPA",
        "outputId": "acdaa37a-e383-4722-f3ee-c2dae220c6fc"
      },
      "execution_count": null,
      "outputs": [
        {
          "output_type": "stream",
          "name": "stdout",
          "text": [
            "Lista1 = [25, 35, 35, 45, 75, 70]\n",
            "Lista2 = [15, 0, 5, 5, 25, 0]\n",
            "Lista3 = [10, 40, 30, 40, 50, 100, 40]\n",
            "Lista4 = [25, 400, 225, 400, 625, 2500, 400]\n"
          ]
        }
      ]
    },
    {
      "cell_type": "code",
      "source": [
        "#17. Escriba un programa que separe los elementos de una lista en el n-ésimo término.\n",
        "#Ejemplo: sea la lista ['a', 'b', 'c', 'd', 'e', 'f', 'g', 'h', 'i', 'j', 'k', 'l', 'm', 'n'] y si n=5 la nueva lista\n",
        "#será [['a', 'd', 'g', 'j', 'm'], ['b', 'e', 'h', 'k', 'n'], ['c', 'f', 'i', 'l']]\n",
        "\n",
        "lst = ['a', 'b', 'c', 'd', 'e', 'f', 'g', 'h', 'i', 'j', 'k', 'l', 'm', 'n']\n",
        "n = 5\n",
        "\n",
        "new_list = [[] for _ in range(n)]  # Create n empty sublists\n",
        "\n",
        "for i, item in enumerate(lst):\n",
        "    new_list[i % n].append(item)  # Append to sublist based on index modulo n\n",
        "\n",
        "print(new_list)\n",
        "\n",
        "\n",
        "\n",
        "\n",
        "\n"
      ],
      "metadata": {
        "colab": {
          "base_uri": "https://localhost:8080/"
        },
        "id": "lxVGL6q5BVo0",
        "outputId": "50223558-6694-4e65-d600-60abec889a20"
      },
      "execution_count": null,
      "outputs": [
        {
          "output_type": "stream",
          "name": "stdout",
          "text": [
            "[['a', 'f', 'k'], ['b', 'g', 'l'], ['c', 'h', 'm'], ['d', 'i', 'n'], ['e', 'j']]\n"
          ]
        }
      ]
    },
    {
      "cell_type": "code",
      "source": [
        "#18. Escriba un programa que mueva todos los ceros al final de una lista. Ejemplo, si se\n",
        "#tiene la lista [3, 4, 0, 0, 0, 6, 2, 0, 6, 7, 6, 0, 0, 0, 9, 10, 7, 4, 4, 5, 3, 0, 0, 2, 9, 7, 1] el\n",
        "#resultado esperado es: [3, 4, 6, 2, 6, 7, 6, 9, 10, 7, 4, 4, 5, 3, 2, 9, 7, 1, 0, 0, 0, 0, 0, 0,\n",
        "#0, 0, 0]\n",
        "\n",
        "lst = [3, 4, 0, 0, 0, 6, 2, 0, 6, 7, 6, 0, 0, 0, 9, 10, 7, 4, 4, 5, 3, 0, 0, 2, 9, 7, 1]\n",
        "result = [x for x in lst if x != 0]\n",
        "result.extend([0] * lst.count(0))\n",
        "print(result)\n"
      ],
      "metadata": {
        "id": "HljWueq3B9ie",
        "colab": {
          "base_uri": "https://localhost:8080/"
        },
        "outputId": "84b8d8f0-c80f-4a36-fc9f-196eacbedc75"
      },
      "execution_count": null,
      "outputs": [
        {
          "output_type": "stream",
          "name": "stdout",
          "text": [
            "[3, 4, 6, 2, 6, 7, 6, 9, 10, 7, 4, 4, 5, 3, 2, 9, 7, 1, 0, 0, 0, 0, 0, 0, 0, 0, 0]\n"
          ]
        }
      ]
    },
    {
      "cell_type": "markdown",
      "source": [
        "##Ejercicios Diccionarios"
      ],
      "metadata": {
        "id": "AbAT9hB0LoOZ"
      }
    },
    {
      "cell_type": "code",
      "source": [
        "#1. Desarrolle un programa que genere un diccionario de dos listas. Ejemplo. Sean las\n",
        "#listas [\"Black\", \"Red\", \"Maroon\", \"Yellow\"], [\"#000000\", \"#FF0000\", \"#800000\",\n",
        "#\"#FFFF00\"], se espera: [{'color_name': 'Black', 'color_code': '#000000'},\n",
        "#{'color_name': 'Red', 'color_code': '#FF0000'}, {'color_name': 'Maroon', 'color_code':\n",
        "#'#800000'}, {'color_name': 'Yellow', 'color_code': '#FFFF00'}]\n",
        "\n",
        "keys = [\"Black\", \"Red\", \"Maroon\", \"Yellow\"]\n",
        "values = [\"#000000\", \"#FF0000\", \"#800000\", \"#FFFF00\"]\n",
        "\n",
        "result = [{'color_name': k, 'color_code': v} for k, v in zip(keys, values)]\n",
        "\n",
        "print(result)"
      ],
      "metadata": {
        "colab": {
          "base_uri": "https://localhost:8080/"
        },
        "id": "m3FTTqYOLjkC",
        "outputId": "84ea748d-9db5-4923-a5d8-8bc243d1f940"
      },
      "execution_count": null,
      "outputs": [
        {
          "output_type": "stream",
          "name": "stdout",
          "text": [
            "[{'color_name': 'Black', 'color_code': '#000000'}, {'color_name': 'Red', 'color_code': '#FF0000'}, {'color_name': 'Maroon', 'color_code': '#800000'}, {'color_name': 'Yellow', 'color_code': '#FFFF00'}]\n"
          ]
        }
      ]
    },
    {
      "cell_type": "code",
      "source": [
        "#2. Desarrolle un programa que genera el siguiente diccionario, en donde el valor es el\n",
        "#cuadrado de la clave de 15 números: {1: 1, 2: 4, 3: 9, 4: 16, 5: 25, 6: 36, 7: 49, 8: 64,\n",
        "#9: 81, 10: 100, 11: 121, 12: 144, 13: 169, 14: 196, 15: 225}\n",
        "\n",
        "result = {i: i**2 for i in range(1, 16)}\n",
        "\n",
        "print(result)"
      ],
      "metadata": {
        "colab": {
          "base_uri": "https://localhost:8080/"
        },
        "id": "eYDahOmML8Rg",
        "outputId": "fa63b992-6041-4e3f-9d0d-ee84eb6d24b2"
      },
      "execution_count": null,
      "outputs": [
        {
          "output_type": "stream",
          "name": "stdout",
          "text": [
            "{1: 1, 2: 4, 3: 9, 4: 16, 5: 25, 6: 36, 7: 49, 8: 64, 9: 81, 10: 100, 11: 121, 12: 144, 13: 169, 14: 196, 15: 225}\n"
          ]
        }
      ]
    },
    {
      "cell_type": "code",
      "source": [
        "#3. Sean dos diccionarios\n",
        "#d1 = {'a': 100, 'b': 200, 'c':300}\n",
        "#d2 = {'a': 300, 'b': 200, 'd':400} se desea que se genere un tercero tal que de como\n",
        "#resultado ({'a': 400, 'b': 400, 'd': 400, 'c': 300})\n",
        "\n",
        "d1 = {'a': 100, 'b': 200, 'c': 300}\n",
        "d2 = {'a': 300, 'b': 200, 'd': 400}\n",
        "\n",
        "d3 = d1.copy()\n",
        "\n",
        "for key, value in d2.items():\n",
        "  d3[key] = d3.get(key, 0) + value\n",
        "\n",
        "print(d3)"
      ],
      "metadata": {
        "colab": {
          "base_uri": "https://localhost:8080/"
        },
        "id": "qrChCwUFMUv_",
        "outputId": "647b8acc-7141-4b3f-d86d-74f2988d4e8c"
      },
      "execution_count": null,
      "outputs": [
        {
          "output_type": "stream",
          "name": "stdout",
          "text": [
            "{'a': 400, 'b': 400, 'c': 300, 'd': 400}\n"
          ]
        }
      ]
    },
    {
      "cell_type": "code",
      "source": [
        "#4. Escriba un programa que imprima todos los valores únicos de un diccionario, tal\n",
        "#que [{\"V\":\"S001\"}, {\"V\": \"S002\"}, {\"VI\": \"S001\"}, {\"VI\": \"S005\"}, {\"VII\":\"S005\"},\n",
        "#{\"V\":\"S009\"},{\"VIII\":\"S007\"}] imprima {'S005', 'S002', 'S007', 'S001', 'S009'}\n",
        "\n",
        "data = [{\"V\":\"S001\"}, {\"V\": \"S002\"}, {\"VI\": \"S001\"}, {\"VI\": \"S005\"}, {\"VII\":\"S005\"}, {\"V\":\"S009\"},{\"VIII\":\"S007\"}]\n",
        "\n",
        "unique_values = set()\n",
        "\n",
        "for item in data:\n",
        "  for value in item.values():\n",
        "    unique_values.add(value)\n",
        "\n",
        "print(unique_values)"
      ],
      "metadata": {
        "colab": {
          "base_uri": "https://localhost:8080/"
        },
        "id": "fyQi7k9xMkOI",
        "outputId": "1ea4ead3-6617-47fe-9a3c-e527523be340"
      },
      "execution_count": null,
      "outputs": [
        {
          "output_type": "stream",
          "name": "stdout",
          "text": [
            "{'S002', 'S005', 'S009', 'S001', 'S007'}\n"
          ]
        }
      ]
    },
    {
      "cell_type": "code",
      "source": [
        "#5. Desarrollar un programa que genere un diccionario de una palabra y cuente cuántas\n",
        "#veces se repita la letra en la palabra. Ejemplo: La palabra “Anita” genera el\n",
        "#diccionario {“A”: 2, ”n”:1, ”i”:1, ”t”:1}\n",
        "\n",
        "word = \"Anita\".upper()\n",
        "freq_dict = {}\n",
        "for letter in word:\n",
        "    freq_dict[letter] = freq_dict.get(letter, 0) + 1\n",
        "print(freq_dict)"
      ],
      "metadata": {
        "colab": {
          "base_uri": "https://localhost:8080/"
        },
        "id": "JI9dOW-ZNVHU",
        "outputId": "4579b8fd-d721-43e0-abe5-1ae68983748d"
      },
      "execution_count": null,
      "outputs": [
        {
          "output_type": "stream",
          "name": "stdout",
          "text": [
            "{'A': 2, 'N': 1, 'I': 1, 'T': 1}\n"
          ]
        }
      ]
    },
    {
      "cell_type": "code",
      "source": [
        "#6.Desarrolle un programa que emule una caja registradora de 15 productos con sus\n",
        "#respectivos precios. El programa debe generar una factura de compra y al final\n",
        "#indicar al dueño del establecimiento:\n",
        "#a. Cuántos productos se vendieron durante el día\n",
        "#b. Cuál fue la ganancia total\n",
        "#c. Cuál fue la mayor compra\n",
        "#d. Cuántos clientes se atendieron en el día.\n",
        "#e. El programa sólo puede realizarse con diccionarios.\n",
        "\n",
        "productos = {\n",
        "    \"articulo1\": 10, \"articulo2\": 15, \"articulo3\": 20, \"articulo4\": 25, \"articulo5\": 30,\n",
        "    \"articulo6\": 35, \"articulo7\": 40, \"articulo8\": 45, \"articulo9\": 50, \"articulo10\": 55,\n",
        "    \"articulo11\": 60, \"articulo12\": 65, \"articulo13\": 70, \"articulo14\": 75, \"articulo15\": 80\n",
        "}\n",
        "\n",
        "ventas = []\n",
        "total_productos_vendidos = 0\n",
        "ganancia_total = 0\n",
        "compra_maxima = 0\n",
        "clientes_atendidos = 0\n",
        "\n",
        "while True:\n",
        "\n",
        "    pedido = input(\"Introduce los artículos separados por comas (o 'fin' para terminar): \").lower()\n",
        "    if pedido == \"fin\":\n",
        "        break\n",
        "\n",
        "\n",
        "    articulos = pedido.split(\",\")\n",
        "    total_compra = 0\n",
        "    for articulo in articulos:\n",
        "        articulo = articulo.strip()\n",
        "        if articulo in productos:\n",
        "            total_compra += productos[articulo]\n",
        "            total_productos_vendidos += 1\n",
        "        else:\n",
        "            print(f\"Artículo '{articulo}' no encontrado en el inventario.\")\n",
        "\n",
        "\n",
        "    ventas.append(total_compra)\n",
        "    ganancia_total += total_compra\n",
        "    compra_maxima = max(compra_maxima, total_compra)\n",
        "    clientes_atendidos += 1\n",
        "\n",
        "\n",
        "print(\"\\n--- Resumen del Día ---\")\n",
        "print(f\"Total de productos vendidos: {total_productos_vendidos}\")\n",
        "print(f\"Ganancia total: {ganancia_total}\")\n",
        "print(f\"Compra máxima: {compra_maxima}\")\n",
        "print(f\"Clientes atendidos: {clientes_atendidos}\")"
      ],
      "metadata": {
        "colab": {
          "base_uri": "https://localhost:8080/"
        },
        "id": "9R6oJkaQOlwk",
        "outputId": "dc99d824-304f-4486-d484-51a0ff7ce432"
      },
      "execution_count": null,
      "outputs": [
        {
          "output_type": "stream",
          "name": "stdout",
          "text": [
            "Introduce los artículos separados por comas (o 'fin' para terminar): articulo1\n",
            "Introduce los artículos separados por comas (o 'fin' para terminar): fin\n",
            "\n",
            "--- Resumen del Día ---\n",
            "Total de productos vendidos: 1\n",
            "Ganancia total: 10\n",
            "Compra máxima: 10\n",
            "Clientes atendidos: 1\n"
          ]
        }
      ]
    },
    {
      "cell_type": "code",
      "source": [],
      "metadata": {
        "id": "_6AYIhEKPtzP"
      },
      "execution_count": null,
      "outputs": []
    }
  ]
}