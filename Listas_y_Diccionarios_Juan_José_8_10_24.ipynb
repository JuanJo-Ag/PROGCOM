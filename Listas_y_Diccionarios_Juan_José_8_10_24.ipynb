{
  "nbformat": 4,
  "nbformat_minor": 0,
  "metadata": {
    "colab": {
      "provenance": []
    },
    "kernelspec": {
      "name": "python3",
      "display_name": "Python 3"
    },
    "language_info": {
      "name": "python"
    }
  },
  "cells": [
    {
      "cell_type": "markdown",
      "source": [
        "Listas: Una lista en Python es un tipo de datos nativos construido dentro del lenguaje de programación Python. Estas listas son similares a matrices (o arrays) que se encuentran en otros lenguajes. Sin embargo, en Python se manejan como variables con muchos elementos. Aun así, las listas se consideran un tipo de datos para guardar colecciones de información."
      ],
      "metadata": {
        "id": "gu20wBB7hiQn"
      }
    },
    {
      "cell_type": "code",
      "execution_count": null,
      "metadata": {
        "id": "j9w3AHbCUUZL"
      },
      "outputs": [],
      "source": [
        "lista1 = [12,12,6,8,11,1]\n",
        "lista2 = [\"Juan\",\"José\",\"Aguilar\",\"Juan\",\"Pablo\",\"Aguilar\"]\n"
      ]
    },
    {
      "cell_type": "code",
      "source": [
        "#1. append()\n",
        "#Definición: Agrega un elemento al final de la lista.\n",
        "\n",
        "lista1.append(10)\n",
        "print(lista1)"
      ],
      "metadata": {
        "colab": {
          "base_uri": "https://localhost:8080/"
        },
        "id": "0E-3MwZulbRt",
        "outputId": "849be50c-0b29-4eca-c959-90d0a31633b0"
      },
      "execution_count": null,
      "outputs": [
        {
          "output_type": "stream",
          "name": "stdout",
          "text": [
            "[12, 12, 6, 8, 11, 1, 10]\n"
          ]
        }
      ]
    },
    {
      "cell_type": "code",
      "source": [
        "#2. extend()\n",
        "#Definición: Extiende la lista agregando todos los elementos de una lista iterable al final.\n",
        "\n",
        "lista1.extend(lista2)\n",
        "print(lista1)"
      ],
      "metadata": {
        "colab": {
          "base_uri": "https://localhost:8080/"
        },
        "id": "KaJJWOp2ljtB",
        "outputId": "0a80a76f-f853-4c1b-afd5-87023aa4cc7a"
      },
      "execution_count": null,
      "outputs": [
        {
          "output_type": "stream",
          "name": "stdout",
          "text": [
            "[12, 12, 6, 8, 11, 1, 10, 'Juan', 'José', 'Aguilar', 'Juan', 'Pablo', 'Aguilar']\n"
          ]
        }
      ]
    },
    {
      "cell_type": "code",
      "source": [
        "#3. insert()\n",
        "#Definición: Inserta un elemento en una posición específica.\n",
        "\n",
        "lista1.insert(2,100)\n",
        "print(lista1)"
      ],
      "metadata": {
        "colab": {
          "base_uri": "https://localhost:8080/"
        },
        "id": "48CqBAGglpgZ",
        "outputId": "1edc027b-f28c-4d35-c89c-09078372c1fa"
      },
      "execution_count": null,
      "outputs": [
        {
          "output_type": "stream",
          "name": "stdout",
          "text": [
            "[12, 12, 100, 6, 8, 11, 1, 10, 'Juan', 'José', 'Aguilar', 'Juan', 'Pablo', 'Aguilar']\n"
          ]
        }
      ]
    },
    {
      "cell_type": "code",
      "source": [
        "#4. remove()\n",
        "#Definición: Elimina la primera ocurrencia de un elemento en la lista.\n",
        "\n",
        "lista1.remove(12)\n",
        "print(lista1)"
      ],
      "metadata": {
        "colab": {
          "base_uri": "https://localhost:8080/"
        },
        "id": "A4pPIFKklsAr",
        "outputId": "33e2d697-821f-4967-a113-09932b81347a"
      },
      "execution_count": null,
      "outputs": [
        {
          "output_type": "stream",
          "name": "stdout",
          "text": [
            "[12, 100, 6, 8, 11, 1, 10, 'Juan', 'José', 'Aguilar', 'Juan', 'Pablo', 'Aguilar']\n"
          ]
        }
      ]
    },
    {
      "cell_type": "code",
      "source": [
        "#5. pop()\n",
        "#Definición: Elimina y devuelve el elemento en la posición dada (por defecto, el último).\n",
        "\n",
        "lista1.pop()\n",
        "print(lista1)"
      ],
      "metadata": {
        "colab": {
          "base_uri": "https://localhost:8080/"
        },
        "id": "jfq_kAUilvvr",
        "outputId": "f06ab2a1-8043-4d83-ff70-a379b6b9a169"
      },
      "execution_count": null,
      "outputs": [
        {
          "output_type": "stream",
          "name": "stdout",
          "text": [
            "[12, 100, 6, 8, 11, 1, 10, 'Juan', 'José', 'Aguilar', 'Juan', 'Pablo']\n"
          ]
        }
      ]
    },
    {
      "cell_type": "code",
      "source": [
        "#6. clear()\n",
        "#Definición: Elimina todos los elementos de la lista.\n",
        "\n",
        "lista1.clear()\n",
        "print(lista1)"
      ],
      "metadata": {
        "colab": {
          "base_uri": "https://localhost:8080/"
        },
        "id": "7Y_lyKG7lyJk",
        "outputId": "210566a5-84c5-4346-dca3-21275b062f60"
      },
      "execution_count": null,
      "outputs": [
        {
          "output_type": "stream",
          "name": "stdout",
          "text": [
            "[]\n"
          ]
        }
      ]
    },
    {
      "cell_type": "code",
      "source": [
        "#7. index()\n",
        "#Definición: Devuelve el índice de la primera aparición de un valor en la lista.\n",
        "\n",
        "posicion = lista2.index(\"Juan\")\n",
        "print(posicion)  # 0\n"
      ],
      "metadata": {
        "colab": {
          "base_uri": "https://localhost:8080/"
        },
        "id": "sDJt7s2Ol1Sn",
        "outputId": "b83db333-1031-446a-b382-8adf1375c5f5"
      },
      "execution_count": null,
      "outputs": [
        {
          "output_type": "stream",
          "name": "stdout",
          "text": [
            "0\n"
          ]
        }
      ]
    },
    {
      "cell_type": "code",
      "source": [
        "#8. count()\n",
        "#Definición: Cuenta el número de veces que un valor aparece en la lista.\n",
        "\n",
        "repeticiones = lista2.count(\"Juan\")\n",
        "print(repeticiones)  # 2"
      ],
      "metadata": {
        "colab": {
          "base_uri": "https://localhost:8080/"
        },
        "id": "mUz0kFB2l40P",
        "outputId": "6e7ddd41-7450-4ffd-a5fa-52d12d461577"
      },
      "execution_count": null,
      "outputs": [
        {
          "output_type": "stream",
          "name": "stdout",
          "text": [
            "2\n"
          ]
        }
      ]
    },
    {
      "cell_type": "code",
      "source": [
        "#9. sort()\n",
        "#Definición: Ordena los elementos de la lista en orden ascendente o en el orden que se especifique.\n",
        "\n",
        "lista1.sort()\n",
        "print(lista1)"
      ],
      "metadata": {
        "colab": {
          "base_uri": "https://localhost:8080/"
        },
        "id": "36uCMrgNl6dw",
        "outputId": "51f98d5e-e167-48d6-8bf6-e8cc513e15a5"
      },
      "execution_count": null,
      "outputs": [
        {
          "output_type": "stream",
          "name": "stdout",
          "text": [
            "[]\n"
          ]
        }
      ]
    },
    {
      "cell_type": "code",
      "source": [
        "#10. reverse()\n",
        "#Definición: Invierte el orden de los elementos en la lista.\n",
        "\n",
        "lista1.reverse()\n",
        "print(lista1)"
      ],
      "metadata": {
        "colab": {
          "base_uri": "https://localhost:8080/"
        },
        "id": "_K_JrwAkl8f0",
        "outputId": "99c031db-efb4-4208-f6e4-329793c1a425"
      },
      "execution_count": null,
      "outputs": [
        {
          "output_type": "stream",
          "name": "stdout",
          "text": [
            "[]\n"
          ]
        }
      ]
    },
    {
      "cell_type": "markdown",
      "source": [
        "Diccionarios: Un diccionario Python es una estructura de datos para trabajar con colecciones de datos almacenados en pares de claves/valores. Los diccionarios se ordenan (según Python 3,7) y son mutables. Pueden soportar cambios después de su creación, pero son estrictos acerca de entradas duplicadas. Todas las claves/valores deben ser únicos."
      ],
      "metadata": {
        "id": "DTAh_a5Aj6f2"
      }
    },
    {
      "cell_type": "code",
      "source": [
        "dict1 = {\"nombre\":\"Juan\",\"apellido\":\"Aguilar\"}\n",
        "dict2 = {\"dia\":12,\"mes\":12,\"año\":2006}"
      ],
      "metadata": {
        "id": "3J28PuDaj5T6"
      },
      "execution_count": null,
      "outputs": []
    },
    {
      "cell_type": "code",
      "source": [
        "#1. get()\n",
        "#Definición: Devuelve el valor de la clave especificada. Si la clave no existe, devuelve un valor por defecto (opcional).\n",
        "\n",
        "nombre = dict1.get(\"nombre\",\"No existe\")\n",
        "print(nombre)"
      ],
      "metadata": {
        "colab": {
          "base_uri": "https://localhost:8080/"
        },
        "id": "x4mkaDMxnNru",
        "outputId": "fd0c98b2-3d57-42a9-c666-4b893969da08"
      },
      "execution_count": null,
      "outputs": [
        {
          "output_type": "stream",
          "name": "stdout",
          "text": [
            "Juan\n"
          ]
        }
      ]
    },
    {
      "cell_type": "code",
      "source": [
        "#2. keys()\n",
        "#Definición: Devuelve una vista de todas las claves en el diccionario.\n",
        "\n",
        "claves = dict1.keys()\n",
        "print(claves)"
      ],
      "metadata": {
        "colab": {
          "base_uri": "https://localhost:8080/"
        },
        "id": "YN8smi2LnT0l",
        "outputId": "62036814-c679-4013-e2bc-5b3039f8127b"
      },
      "execution_count": null,
      "outputs": [
        {
          "output_type": "stream",
          "name": "stdout",
          "text": [
            "dict_keys(['nombre', 'apellido'])\n"
          ]
        }
      ]
    },
    {
      "cell_type": "code",
      "source": [
        "#3. values()\n",
        "#Definición: Devuelve una vista de todos los valores en el diccionario.\n",
        "\n",
        "valores = dict1.values()\n",
        "print(valores)"
      ],
      "metadata": {
        "colab": {
          "base_uri": "https://localhost:8080/"
        },
        "id": "DXD0Ei6XnVCd",
        "outputId": "0c64a11c-6d17-4199-a708-263f6e1e7222"
      },
      "execution_count": null,
      "outputs": [
        {
          "output_type": "stream",
          "name": "stdout",
          "text": [
            "dict_values(['Juan', 'Aguilar'])\n"
          ]
        }
      ]
    },
    {
      "cell_type": "code",
      "source": [
        "#4. items()\n",
        "#Definición: Devuelve una vista de los pares clave-valor como tuplas.\n",
        "\n",
        "items = dict1.items()\n",
        "print(items)"
      ],
      "metadata": {
        "colab": {
          "base_uri": "https://localhost:8080/"
        },
        "id": "lkgiXrJ-nU58",
        "outputId": "9095eb74-380c-4429-81a5-32dbb64ab5aa"
      },
      "execution_count": null,
      "outputs": [
        {
          "output_type": "stream",
          "name": "stdout",
          "text": [
            "dict_items([('nombre', 'Juan'), ('apellido', 'Aguilar')])\n"
          ]
        }
      ]
    },
    {
      "cell_type": "code",
      "source": [
        "#5. update()\n",
        "#Definición: Actualiza el diccionario con pares clave-valor de otro diccionario o de un iterable.\n",
        "\n",
        "dict1.update(dict2)\n",
        "print(dict1)"
      ],
      "metadata": {
        "colab": {
          "base_uri": "https://localhost:8080/"
        },
        "id": "2A2iIRNQnUvf",
        "outputId": "a8200c58-adf8-4d98-d2bc-7fd79213e162"
      },
      "execution_count": null,
      "outputs": [
        {
          "output_type": "stream",
          "name": "stdout",
          "text": [
            "{'nombre': 'Juan', 'apellido': 'Aguilar', 'dia': 12, 'mes': 12, 'año': 2006}\n"
          ]
        }
      ]
    },
    {
      "cell_type": "code",
      "source": [
        "#6. pop()\n",
        "#Definición: Elimina la clave especificada y devuelve su valor. Si la clave no existe, se puede devolver un valor por defecto.\n",
        "\n",
        "diccionario = {'a': 1, 'b': 2, 'c': 3}\n",
        "valor_eliminado = diccionario.pop('b')\n",
        "print(valor_eliminado)"
      ],
      "metadata": {
        "colab": {
          "base_uri": "https://localhost:8080/"
        },
        "id": "2ETZY68anUlR",
        "outputId": "fbaa8dc6-d71a-44fd-e450-11894a4ad5fe"
      },
      "execution_count": null,
      "outputs": [
        {
          "output_type": "stream",
          "name": "stdout",
          "text": [
            "2\n"
          ]
        }
      ]
    },
    {
      "cell_type": "code",
      "source": [
        "#7. popitem()\n",
        "#Definición: Elimina y devuelve el último par clave-valor añadido en el diccionario.\n",
        "\n",
        "diccionario = {'a': 1, 'b': 2, 'c': 3}\n",
        "ultimo_par = diccionario.popitem()\n",
        "print(ultimo_par)\n"
      ],
      "metadata": {
        "colab": {
          "base_uri": "https://localhost:8080/"
        },
        "id": "eqdoyGrrnUFO",
        "outputId": "5e911741-86f9-45ae-8b06-80a971801a4d"
      },
      "execution_count": null,
      "outputs": [
        {
          "output_type": "stream",
          "name": "stdout",
          "text": [
            "('c', 3)\n"
          ]
        }
      ]
    },
    {
      "cell_type": "code",
      "source": [
        "#8. setdefault()\n",
        "#Definición: Devuelve el valor de una clave si existe, de lo contrario, establece la clave con un valor por defecto.\n",
        "\n",
        "diccionario = {'a': 1, 'b': 2, 'c': 3}\n",
        "valor = diccionario.setdefault('b', 4)\n",
        "print(valor)\n"
      ],
      "metadata": {
        "colab": {
          "base_uri": "https://localhost:8080/"
        },
        "id": "9RM8vhHFoHz7",
        "outputId": "92666f57-3bf3-4b24-d7f3-0aa0b602a070"
      },
      "execution_count": null,
      "outputs": [
        {
          "output_type": "stream",
          "name": "stdout",
          "text": [
            "2\n"
          ]
        }
      ]
    },
    {
      "cell_type": "code",
      "source": [
        "#9. clear()\n",
        "#Definición: Elimina todos los elementos del diccionario, dejándolo vacío.\n",
        "\n",
        "diccionario = {'a': 1, 'b': 2, 'c': 3}\n",
        "diccionario.clear()\n",
        "print(diccionario)\n"
      ],
      "metadata": {
        "colab": {
          "base_uri": "https://localhost:8080/"
        },
        "id": "UkeduZ5LoIDr",
        "outputId": "5cd793b1-e223-4374-dbfe-e230c4fc429b"
      },
      "execution_count": null,
      "outputs": [
        {
          "output_type": "stream",
          "name": "stdout",
          "text": [
            "{}\n"
          ]
        }
      ]
    },
    {
      "cell_type": "code",
      "source": [
        "#10. copy()\n",
        "#Definición: Devuelve una copia superficial del diccionario.\n",
        "\n",
        "diccionario = {'a': 1, 'b': 2, 'c': 3}\n",
        "copia = diccionario.copy()\n",
        "print(copia)\n"
      ],
      "metadata": {
        "colab": {
          "base_uri": "https://localhost:8080/"
        },
        "id": "o9C6T_ELoLvC",
        "outputId": "cb36a26b-f731-4df5-d23a-02bc9968e825"
      },
      "execution_count": null,
      "outputs": [
        {
          "output_type": "stream",
          "name": "stdout",
          "text": [
            "{'a': 1, 'b': 2, 'c': 3}\n"
          ]
        }
      ]
    },
    {
      "cell_type": "code",
      "source": [],
      "metadata": {
        "id": "CENTuU7hwapM"
      },
      "execution_count": null,
      "outputs": []
    }
  ]
}