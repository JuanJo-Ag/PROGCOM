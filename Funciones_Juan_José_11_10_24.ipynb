{
  "nbformat": 4,
  "nbformat_minor": 0,
  "metadata": {
    "colab": {
      "provenance": []
    },
    "kernelspec": {
      "name": "python3",
      "display_name": "Python 3"
    },
    "language_info": {
      "name": "python"
    }
  },
  "cells": [
    {
      "cell_type": "markdown",
      "source": [
        "##Funciones\n",
        "\n",
        "Conjunto de instrucciones que permiten alcanzar pequeños objetivos.\n",
        "\n",
        "1. Reutilizar codigo\n",
        "2. Simplificar el objetivo\n",
        "3. Facilitar la realización de pruebas\n",
        "\n",
        "Hay de dos tipos\n",
        "\n",
        "Anonimas: No tienen nombre y se llaman de acuerdo a la variable asignada. Se emplea el identificador lambda. Se declara lambda (variable): operación\n",
        "\n",
        "Funciones: Necesitan de la palabra def (nombre_de_la_función):\n"
      ],
      "metadata": {
        "id": "0niPCvXhKHb_"
      }
    },
    {
      "cell_type": "code",
      "execution_count": 2,
      "metadata": {
        "colab": {
          "base_uri": "https://localhost:8080/"
        },
        "id": "CHEcLPFqGoOX",
        "outputId": "444f5762-cc83-419c-805d-536967296d01"
      },
      "outputs": [
        {
          "output_type": "stream",
          "name": "stdout",
          "text": [
            "Ingrese un número: 5\n",
            "Ingrese otro número: 2\n",
            "La suma de 5 + 2 es:  7\n",
            "La resta de 5 - 2 es:  3\n",
            "La multiplicación de 5 x 2 es:  10\n",
            "La división de 5 / 2 es:  2.5\n"
          ]
        }
      ],
      "source": [
        "#Programa que permita calcular, suma, resta, multiplicación y división\n",
        "\n",
        "x=int(input(\"Ingrese un número: \"))\n",
        "y=int(input(\"Ingrese otro número: \"))\n",
        "\n",
        "s= x+y\n",
        "print(f\"La suma de {x} + {y} es: \", s)\n",
        "\n",
        "r= x-y\n",
        "print(f\"La resta de {x} - {y} es: \", r)\n",
        "\n",
        "m= x*y\n",
        "print(f\"La multiplicación de {x} x {y} es: \", m)\n",
        "\n",
        "d= x/y\n",
        "print(f\"La división de {x} / {y} es: \", d)"
      ]
    },
    {
      "cell_type": "code",
      "source": [
        "def pedir_numeros():\n",
        "  x=int(input(\"Ingrese un número: \"))\n",
        "  y=int(input(\"Ingrese otro número: \"))\n",
        "  return x,y"
      ],
      "metadata": {
        "id": "DvawjOXvVbyC"
      },
      "execution_count": 5,
      "outputs": []
    },
    {
      "cell_type": "code",
      "source": [
        "pedir_numeros()"
      ],
      "metadata": {
        "colab": {
          "base_uri": "https://localhost:8080/"
        },
        "id": "xE3Vcm9PWMWO",
        "outputId": "f012e1fa-04f1-4242-db7b-021631900ea6"
      },
      "execution_count": 6,
      "outputs": [
        {
          "name": "stdout",
          "output_type": "stream",
          "text": [
            "Ingrese un número: 12\n",
            "Ingrese otro número: 32\n"
          ]
        },
        {
          "output_type": "execute_result",
          "data": {
            "text/plain": [
              "(12, 32)"
            ]
          },
          "metadata": {},
          "execution_count": 6
        }
      ]
    },
    {
      "cell_type": "code",
      "source": [
        "a,b=pedir_numeros()"
      ],
      "metadata": {
        "colab": {
          "base_uri": "https://localhost:8080/"
        },
        "id": "nqQj_q40WORR",
        "outputId": "9dbc09e3-7aec-4fa7-9312-8b110972a32e"
      },
      "execution_count": 7,
      "outputs": [
        {
          "name": "stdout",
          "output_type": "stream",
          "text": [
            "Ingrese un número: 23\n",
            "Ingrese otro número: 43\n"
          ]
        }
      ]
    },
    {
      "cell_type": "code",
      "source": [
        "print(a)\n",
        "print(b)\n",
        "print(x)"
      ],
      "metadata": {
        "colab": {
          "base_uri": "https://localhost:8080/"
        },
        "id": "fKKuEB1ZWe4D",
        "outputId": "2a999ec7-35f1-454f-ff21-4eaa873172ad"
      },
      "execution_count": 9,
      "outputs": [
        {
          "output_type": "stream",
          "name": "stdout",
          "text": [
            "23\n",
            "43\n",
            "5\n"
          ]
        }
      ]
    },
    {
      "cell_type": "code",
      "source": [
        "def suma_version1 (a,b): #Donde a y b son los parametros que se van a emplear\n",
        "  return a+b"
      ],
      "metadata": {
        "id": "DmIj2l6CXzay"
      },
      "execution_count": 12,
      "outputs": []
    },
    {
      "cell_type": "code",
      "source": [
        "suma = lambda a,b: a+b #Funcion anonima"
      ],
      "metadata": {
        "id": "kDrWzU8EWjL2"
      },
      "execution_count": 10,
      "outputs": []
    },
    {
      "cell_type": "code",
      "source": [
        "suma (a,b)"
      ],
      "metadata": {
        "colab": {
          "base_uri": "https://localhost:8080/"
        },
        "id": "P8x2XS4BXpc4",
        "outputId": "c9ab1e4b-bac4-4cff-87c7-8be3e359e35e"
      },
      "execution_count": 11,
      "outputs": [
        {
          "output_type": "execute_result",
          "data": {
            "text/plain": [
              "66"
            ]
          },
          "metadata": {},
          "execution_count": 11
        }
      ]
    },
    {
      "cell_type": "code",
      "source": [
        "suma_version1(a,b)"
      ],
      "metadata": {
        "colab": {
          "base_uri": "https://localhost:8080/"
        },
        "id": "Tq4vRz17Xtgb",
        "outputId": "cb20c6ea-6db0-46a0-c5fc-175521e5fafe"
      },
      "execution_count": 13,
      "outputs": [
        {
          "output_type": "execute_result",
          "data": {
            "text/plain": [
              "66"
            ]
          },
          "metadata": {},
          "execution_count": 13
        }
      ]
    },
    {
      "cell_type": "code",
      "source": [
        "suma (x,y)"
      ],
      "metadata": {
        "colab": {
          "base_uri": "https://localhost:8080/"
        },
        "id": "YlXUJNXqX6nV",
        "outputId": "07802441-576b-42e7-e68f-2ba7eaacc248"
      },
      "execution_count": 14,
      "outputs": [
        {
          "output_type": "execute_result",
          "data": {
            "text/plain": [
              "7"
            ]
          },
          "metadata": {},
          "execution_count": 14
        }
      ]
    },
    {
      "cell_type": "code",
      "source": [
        "suma_version1(x,y)"
      ],
      "metadata": {
        "colab": {
          "base_uri": "https://localhost:8080/"
        },
        "id": "E3r0_X3qYBLq",
        "outputId": "f4934bf9-59aa-48c5-c3ea-6a7727686d0f"
      },
      "execution_count": 15,
      "outputs": [
        {
          "output_type": "execute_result",
          "data": {
            "text/plain": [
              "7"
            ]
          },
          "metadata": {},
          "execution_count": 15
        }
      ]
    },
    {
      "cell_type": "code",
      "source": [
        "def operaciones (a,b,c):\n",
        "  if c == 1:\n",
        "    return print(f\"{a} + {b} = {a+b} \")\n",
        "  elif c == 2:\n",
        "    return print(f\"{a} + {b} = {a-b} \")\n",
        "  elif c == 3:\n",
        "    return print(f\"{a} * {b} = {a*b} \")\n",
        "  elif c == 4:\n",
        "    return print(f\"{a} / {b} = {a/b} \")\n",
        "  else:\n",
        "    return \"Opción no válida\"\n"
      ],
      "metadata": {
        "id": "CO4fkO51YETm"
      },
      "execution_count": 44,
      "outputs": []
    },
    {
      "cell_type": "code",
      "source": [
        "def menu():\n",
        "  print(\"Ingrese dos valores, juntos con la operación a realizar: \\n1. Suma \\n2. Resta \\n3. Multiplicación \\n4. División\")\n",
        "  a = int(input(\"Ingrese el primer valor: \"))\n",
        "  b = int(input(\"Ingrese el segundo valor: \"))\n",
        "  signo = int(input(\"Ingrese la operación a realizar: \"))\n",
        "  operaciones (a,b,signo)\n",
        "  return operaciones (a,b,signo)"
      ],
      "metadata": {
        "id": "da4d_5_CaiSS"
      },
      "execution_count": 45,
      "outputs": []
    },
    {
      "cell_type": "code",
      "source": [
        "menu()"
      ],
      "metadata": {
        "colab": {
          "base_uri": "https://localhost:8080/"
        },
        "id": "PvHw09lDbVOD",
        "outputId": "c8a13fff-77df-40bd-c6c5-53c6e9fea3f3"
      },
      "execution_count": 46,
      "outputs": [
        {
          "output_type": "stream",
          "name": "stdout",
          "text": [
            "Ingrese dos valores, juntos con la operación a realizar: \n",
            "1. Suma \n",
            "2. Resta \n",
            "3. Multiplicación \n",
            "4. División\n",
            "Ingrese el primer valor: 3\n",
            "Ingrese el segundo valor: 2\n",
            "Ingrese la operación a realizar: 1\n",
            "3 + 2 = 5 \n",
            "3 + 2 = 5 \n"
          ]
        }
      ]
    },
    {
      "cell_type": "code",
      "source": [
        "operaciones(5,3,4)"
      ],
      "metadata": {
        "colab": {
          "base_uri": "https://localhost:8080/"
        },
        "id": "xH9rgG0IYnRu",
        "outputId": "af2788ed-589c-42cf-f656-8e9999ad11ba"
      },
      "execution_count": 29,
      "outputs": [
        {
          "output_type": "execute_result",
          "data": {
            "text/plain": [
              "1.6666666666666667"
            ]
          },
          "metadata": {},
          "execution_count": 29
        }
      ]
    },
    {
      "cell_type": "code",
      "source": [
        "operaciones_v2 = lambda a,b,c: a+b if c==1 else a-b if c==2 else a*b if c==3 else a/b if c==4 else \"Opción no válida\""
      ],
      "metadata": {
        "id": "LE4OHQrWYm3Z"
      },
      "execution_count": 20,
      "outputs": []
    },
    {
      "cell_type": "code",
      "source": [
        "operaciones_v2(5,6,3)"
      ],
      "metadata": {
        "colab": {
          "base_uri": "https://localhost:8080/"
        },
        "id": "_Iw8nlkeY1IB",
        "outputId": "02b03a42-98c1-4559-836f-066076f98b4d"
      },
      "execution_count": 22,
      "outputs": [
        {
          "output_type": "execute_result",
          "data": {
            "text/plain": [
              "30"
            ]
          },
          "metadata": {},
          "execution_count": 22
        }
      ]
    },
    {
      "cell_type": "code",
      "source": [
        "import random\n",
        "\n",
        "def generar_problema(operacion):\n",
        "    \"\"\"Genera un problema matemático aleatorio.\"\"\"\n",
        "    num1 = random.randint(1, 10)\n",
        "    num2 = random.randint(1, 10)\n",
        "    if operacion == 1:\n",
        "        problema = f\"{num1} + {num2}\"\n",
        "        respuesta_correcta = num1 + num2\n",
        "    elif operacion == 2:\n",
        "        problema = f\"{num1} - {num2}\"\n",
        "        respuesta_correcta = num1 - num2\n",
        "    elif operacion == 3:\n",
        "        problema = f\"{num1} * {num2}\"\n",
        "        respuesta_correcta = num1 * num2\n",
        "    elif operacion == 4:\n",
        "        problema = f\"{num1} / {num2}\"\n",
        "        respuesta_correcta = num1 / num2\n",
        "    else:  # Operación mezclada\n",
        "        operacion = random.randint(1, 4)\n",
        "        problema, respuesta_correcta = generar_problema(operacion)\n",
        "    return problema, respuesta_correcta\n",
        "\n",
        "def jugar():\n",
        "    \"\"\"Inicia el juego de práctica matemática.\"\"\"\n",
        "\n",
        "    while True:\n",
        "        operacion_seleccionada = int(input(\"Elige una operación:\\n1. Suma\\n2. Resta\\n3. Multiplicación\\n4. División\\n5. Mezcladas\\n0. Salir\\n\"))\n",
        "        if operacion_seleccionada == 0:\n",
        "            break\n",
        "\n",
        "        puntuacion = 0\n",
        "        for _ in range(10):\n",
        "            operacion = operacion_seleccionada\n",
        "            if operacion_seleccionada == 5:\n",
        "                operacion = random.randint(1, 4)\n",
        "\n",
        "            problema, respuesta_correcta = generar_problema(operacion)\n",
        "            respuesta_usuario = float(input(f\"Resuelve: {problema} = \"))\n",
        "\n",
        "            if respuesta_usuario == respuesta_correcta:\n",
        "                puntuacion += 1\n",
        "                print(\"¡Correcto! Puntuación:\", puntuacion)\n",
        "            else:\n",
        "                puntuacion = 0\n",
        "                print(\"Incorrecto. La respuesta correcta era:\", respuesta_correcta)\n",
        "                print(\"Inténtalo de nuevo. Puntuación:\", puntuacion)\n",
        "                break\n",
        "\n",
        "        if puntuacion == 10:\n",
        "            print(\"¡Felicitaciones! Has completado 10 operaciones seguidas correctamente.\")\n",
        "\n",
        "    print(\"¡Gracias por jugar!\")\n",
        "\n",
        "jugar()"
      ],
      "metadata": {
        "colab": {
          "base_uri": "https://localhost:8080/"
        },
        "id": "5Bxw2rtJgJtU",
        "outputId": "78abc584-bf75-4523-81c8-3a80f31e1658"
      },
      "execution_count": 52,
      "outputs": [
        {
          "output_type": "stream",
          "name": "stdout",
          "text": [
            "Elige una operación:\n",
            "1. Suma\n",
            "2. Resta\n",
            "3. Multiplicación\n",
            "4. División\n",
            "5. Mezcladas\n",
            "0. Salir\n",
            "1\n",
            "Resuelve: 7 + 8 = 15\n",
            "¡Correcto! Puntuación: 1\n",
            "Resuelve: 7 + 2 = 34\n",
            "Incorrecto. La respuesta correcta era: 9\n",
            "Inténtalo de nuevo. Puntuación: 0\n",
            "Elige una operación:\n",
            "1. Suma\n",
            "2. Resta\n",
            "3. Multiplicación\n",
            "4. División\n",
            "5. Mezcladas\n",
            "0. Salir\n",
            "1\n",
            "Resuelve: 3 + 3 = 6\n",
            "¡Correcto! Puntuación: 1\n",
            "Resuelve: 7 + 2 = 9\n",
            "¡Correcto! Puntuación: 2\n",
            "Resuelve: 10 + 8 = 18\n",
            "¡Correcto! Puntuación: 3\n",
            "Resuelve: 5 + 4 = 9\n",
            "¡Correcto! Puntuación: 4\n",
            "Resuelve: 5 + 9 = 14\n",
            "¡Correcto! Puntuación: 5\n",
            "Resuelve: 7 + 6 = 13\n",
            "¡Correcto! Puntuación: 6\n",
            "Resuelve: 3 + 2 = 5\n",
            "¡Correcto! Puntuación: 7\n",
            "Resuelve: 9 + 5 = 14\n",
            "¡Correcto! Puntuación: 8\n",
            "Resuelve: 3 + 6 = 9\n",
            "¡Correcto! Puntuación: 9\n",
            "Resuelve: 3 + 7 = 10\n",
            "¡Correcto! Puntuación: 10\n",
            "¡Felicitaciones! Has completado 10 operaciones seguidas correctamente.\n",
            "Elige una operación:\n",
            "1. Suma\n",
            "2. Resta\n",
            "3. Multiplicación\n",
            "4. División\n",
            "5. Mezcladas\n",
            "0. Salir\n",
            "0\n",
            "¡Gracias por jugar!\n"
          ]
        }
      ]
    },
    {
      "cell_type": "code",
      "source": [
        "import random\n",
        "\n",
        "\n",
        "generar_problema = lambda operacion: (\n",
        "    (lambda num1, num2: (f\"{num1} + {num2}\", num1 + num2))(random.randint(1, 10), random.randint(1, 10))\n",
        "    if operacion == 1 else (\n",
        "    (lambda num1, num2: (f\"{num1} - {num2}\", num1 - num2))(random.randint(1, 10), random.randint(1, 10))\n",
        ") if operacion == 2 else (\n",
        "    (lambda num1, num2: (f\"{num1} * {num2}\", num1 * num2))(random.randint(1, 10), random.randint(1, 10))\n",
        ") if operacion == 3 else (\n",
        "    (lambda num1, num2: (f\"{num1} / {num2}\", num1 / num2))(random.randint(1, 10), random.randint(1, 10))\n",
        ") if operacion == 4 else generar_problema(random.randint(1, 4)))\n",
        "\n",
        "\n",
        "def jugar():\n",
        "  \"\"\"Inicia el juego de práctica matemática.\"\"\"\n",
        "  while True:\n",
        "    operacion_seleccionada = int(input(\"Elige una operación:\\n1. Suma\\n2. Resta\\n3. Multiplicación\\n4. División\\n5. Mezcladas\\n0. Salir\\n\"))\n",
        "    if operacion_seleccionada == 0:\n",
        "      break\n",
        "\n",
        "    puntuacion = 0\n",
        "    for _ in range(10):\n",
        "      operacion = operacion_seleccionada\n",
        "      if operacion_seleccionada == 5:\n",
        "        operacion = random.randint(1, 4)\n",
        "\n",
        "      problema, respuesta_correcta = generar_problema(operacion)\n",
        "      respuesta_usuario = float(input(f\"Resuelve: {problema} = \"))\n",
        "\n",
        "      if respuesta_usuario == respuesta_correcta:\n",
        "        puntuacion += 1\n",
        "        print(\"¡Correcto! Puntuación:\", puntuacion)\n",
        "      else:\n",
        "        puntuacion = 0\n",
        "        print(\"Incorrecto. La respuesta correcta era:\", respuesta_correcta)\n",
        "        print(\"Inténtalo de nuevo. Puntuación:\", puntuacion)\n",
        "        break\n",
        "\n",
        "    if puntuacion == 10:\n",
        "      print(\"¡Felicitaciones! Has completado 10 operaciones seguidas correctamente.\")\n",
        "\n",
        "  print(\"¡Gracias por jugar!\")\n",
        "\n",
        "jugar()"
      ],
      "metadata": {
        "colab": {
          "base_uri": "https://localhost:8080/"
        },
        "id": "rW10xWPfkPOM",
        "outputId": "764e7ae6-d3c3-41e5-8d32-f49f7ef06601"
      },
      "execution_count": 56,
      "outputs": [
        {
          "output_type": "stream",
          "name": "stdout",
          "text": [
            "Elige una operación:\n",
            "1. Suma\n",
            "2. Resta\n",
            "3. Multiplicación\n",
            "4. División\n",
            "5. Mezcladas\n",
            "0. Salir\n",
            "1\n",
            "Resuelve: 9 + 4 = 13\n",
            "¡Correcto! Puntuación: 1\n",
            "Resuelve: 10 + 2 = 12\n",
            "¡Correcto! Puntuación: 2\n",
            "Resuelve: 3 + 4 = 7\n",
            "¡Correcto! Puntuación: 3\n",
            "Resuelve: 6 + 4 = 10\n",
            "¡Correcto! Puntuación: 4\n",
            "Resuelve: 8 + 8 = 16\n",
            "¡Correcto! Puntuación: 5\n",
            "Resuelve: 5 + 1 = 6\n",
            "¡Correcto! Puntuación: 6\n",
            "Resuelve: 10 + 4 = 14\n",
            "¡Correcto! Puntuación: 7\n",
            "Resuelve: 1 + 4 = 5\n",
            "¡Correcto! Puntuación: 8\n",
            "Resuelve: 1 + 1 = 2\n",
            "¡Correcto! Puntuación: 9\n",
            "Resuelve: 4 + 5 = 9\n",
            "¡Correcto! Puntuación: 10\n",
            "¡Felicitaciones! Has completado 10 operaciones seguidas correctamente.\n",
            "Elige una operación:\n",
            "1. Suma\n",
            "2. Resta\n",
            "3. Multiplicación\n",
            "4. División\n",
            "5. Mezcladas\n",
            "0. Salir\n",
            "0\n",
            "¡Gracias por jugar!\n"
          ]
        }
      ]
    }
  ]
}