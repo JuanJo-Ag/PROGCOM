{
  "nbformat": 4,
  "nbformat_minor": 0,
  "metadata": {
    "colab": {
      "provenance": []
    },
    "kernelspec": {
      "name": "python3",
      "display_name": "Python 3"
    },
    "language_info": {
      "name": "python"
    }
  },
  "cells": [
    {
      "cell_type": "markdown",
      "source": [
        "6. Solicite un valor e imprima que tipo de dato es\n",
        "Ejemplo\n",
        "ingreso: 'A'\n",
        "imprime: str\n",
        "ingreso: 1\n",
        "imprime: int"
      ],
      "metadata": {
        "id": "lmk4hUgoIKQ7"
      }
    },
    {
      "cell_type": "markdown",
      "source": [
        "## Try (algo): / except (algo):\n",
        "\n",
        "El programa ejecuta una operación inválida.\n",
        "\n",
        "* **Break**: Para romper un ciclo\n",
        "* **Pass**: Permite que una clase o función vacia se ejecute\n",
        "* **None**: Es el valor nada de cualquier estructura de datos\n"
      ],
      "metadata": {
        "id": "IR5cnQUBIMNy"
      }
    },
    {
      "cell_type": "code",
      "execution_count": null,
      "metadata": {
        "colab": {
          "base_uri": "https://localhost:8080/"
        },
        "id": "bOwa9ADPG0mV",
        "outputId": "dea8489b-656a-48bd-be88-931c4a07743f"
      },
      "outputs": [
        {
          "output_type": "stream",
          "name": "stdout",
          "text": [
            "Ingrese una letra: 4\n",
            "4 es una variable de tipo <class 'int'>\n"
          ]
        }
      ],
      "source": [
        "#Respuesta pra :\n",
        "letra = input(\"Ingrese una letra: \")\n",
        "num = None\n",
        "for conv in (int,float):\n",
        "  try:\n",
        "    num = conv(letra)\n",
        "    break\n",
        "  except ValueError:\n",
        "    pass\n",
        "if num == None: print(f\"{letra} es una variable de tipo {type(letra)}\")\n",
        "else: print(f\"{letra} es una variable de tipo {type(num)}\")"
      ]
    },
    {
      "cell_type": "code",
      "source": [
        "#División por 0\n",
        "\n",
        "a=int(input(\"Ingrese el dividendo: \"))\n",
        "b=int(input(\"Ingrese el divisor:\"))\n",
        "try:\n",
        "  division=a/b\n",
        "  print(f\"{a}/{b} = {división}\")\n",
        "except ZeroDivisionError:\n",
        "  print(\"Infinito\")"
      ],
      "metadata": {
        "colab": {
          "base_uri": "https://localhost:8080/"
        },
        "id": "yefEnU2vK-Wp",
        "outputId": "42ce850f-fee7-43fd-f5d1-19782268c640"
      },
      "execution_count": null,
      "outputs": [
        {
          "output_type": "stream",
          "name": "stdout",
          "text": [
            "Ingrese el dividendo: 4\n",
            "Ingrese el divisor:0\n",
            "Infinito\n"
          ]
        }
      ]
    },
    {
      "cell_type": "markdown",
      "source": [
        "Hacer un programa que te pregunte si quiere helado. Si la respuesta es si, qué sabor de helado."
      ],
      "metadata": {
        "id": "PC6KsAYgPOb2"
      }
    },
    {
      "cell_type": "code",
      "source": [
        "a = input(\"Quieres helado? \")\n",
        "a=a[0].lower()\n",
        "a\n",
        "if a==\"s\":\n",
        "  f = input(\"Qué sabor quieres? \")\n",
        "  if f == \"chocolate\": print(f\"Aquí tienes un helado de {f}. Me debe 5000\")\n",
        "  elif f== \"vainilla\": print(f\"Aquí tienes un helado de {f}. Me debe 4000\")\n",
        "  elif f== \"fresa\": print(f\"Aquí tienes un helado de {f}. Me debe 10000\")\n",
        "  elif f== \"naranja\": print(f\"Aquí tienes un helado de {f}. Me debe 7000\")\n",
        "  else: print (\"Lo siento, no tenemos ese sabor\")\n",
        "else:\n",
        "  print(\"Esta bien\")\n"
      ],
      "metadata": {
        "colab": {
          "base_uri": "https://localhost:8080/"
        },
        "id": "4T2jTi4KNR3g",
        "outputId": "d7cd7aab-09d1-4452-9aa0-3302645b3b06"
      },
      "execution_count": null,
      "outputs": [
        {
          "output_type": "stream",
          "name": "stdout",
          "text": [
            "Quieres helado? si\n",
            "Qué sabor quieres?chocolate\n",
            "Aquí tienes un helado de chocolate. Me debe 5000\n"
          ]
        }
      ]
    },
    {
      "cell_type": "code",
      "source": [
        "#Usando match\n",
        "a=input(\"Quieres helado? \")\n",
        "a=a[0].lower()\n",
        "if a==\"s\":\n",
        "  f=input(\"Qué sabor quieres? \").lower()\n",
        "  match f:\n",
        "    case \"chocolate\": print(f\"Aquí está su helado de {f}. Me debe 5000\")\n",
        "    case \"vainilla\":print(f\"Aquí está su helado de {f}. Me debe 4000\")\n",
        "    case \"fresa\":print(f\"Aquí está su helado de {f}. Me debe 10000\")\n",
        "    case \"Ron con pasas\":print(f\"Aquí está su helado de {f}. Me debe 7000\")\n",
        "    case _: print(\"Lo siento, no tenemos ese sabor\")\n",
        "else:\n",
        "  print(\"Ta bueno... a poco que ni queria \")"
      ],
      "metadata": {
        "colab": {
          "base_uri": "https://localhost:8080/"
        },
        "id": "L_yeRCJGNS2f",
        "outputId": "aeb66ba4-46aa-4cc7-db01-f2e62dff0178"
      },
      "execution_count": null,
      "outputs": [
        {
          "output_type": "stream",
          "name": "stdout",
          "text": [
            "Quieres helado? siuuu\n",
            "Qué sabor quieres? naranja\n",
            "Lo siento, no tenemos ese sabor\n"
          ]
        }
      ]
    },
    {
      "cell_type": "code",
      "source": [
        "#Ejemplos:\n",
        "\n",
        "#Decir si una letra es vocal mayúscula o minúscula. Con if\n",
        "\n",
        "a=input(\"Ingrese una letra \")\n",
        "a=a[0]\n",
        "if a==\"a\" or a==\"e\" or a==\"i\" or a==\"o\" or a==\"u\": print(\"Es una vocal en minúscula\")\n",
        "elif a==\"A\" or a==\"E\" or a==\"I\" or a==\"O\" or a==\"U\": print(\"Es una vocal en mayúscula\")\n",
        "else: print(\"No es una vocal\")\n"
      ],
      "metadata": {
        "colab": {
          "base_uri": "https://localhost:8080/"
        },
        "id": "HLgLF_MoS5NS",
        "outputId": "378b35ac-8083-4094-b7dc-6c499f54c67a"
      },
      "execution_count": null,
      "outputs": [
        {
          "output_type": "stream",
          "name": "stdout",
          "text": [
            "Ingrese una vocal: a\n",
            "Es vocal mayúscula\n"
          ]
        }
      ]
    },
    {
      "cell_type": "code",
      "source": [
        "a=input(\"Ingrese una letra: \")\n",
        "a=a[0]\n",
        "match a:\n",
        "  case \"a\": print(\"Es una vocal en minúscula\")\n",
        "  case \"A\": print(\"Es una vocal en mayúscula\")\n",
        "  case \"e\": print(\"Es una vocal en minúscula\")\n",
        "  case \"E\": print(\"Es una vocal en mayúscula\")\n",
        "  case \"i\": print(\"Es una vocal en minúscula\")\n",
        "  case \"I\": print(\"Es una vocal en mayúscula\")\n",
        "  case \"o\": print(\"Es una vocal en minúscula\")\n",
        "  case \"O\": print(\"Es una vocal en mayúscula\")\n",
        "  case \"u\": print(\"Es una vocal en minúscula\")\n",
        "  case \"U\": print(\"Es una vocal en mayúscula\")\n",
        "  case _: print(\"No es una vocal\")"
      ],
      "metadata": {
        "colab": {
          "base_uri": "https://localhost:8080/"
        },
        "id": "OlPUXrygVN_A",
        "outputId": "47d3d585-8c94-4512-f2fd-3b03075dc556"
      },
      "execution_count": null,
      "outputs": [
        {
          "output_type": "stream",
          "name": "stdout",
          "text": [
            "Ingrese una letra a\n",
            "Es una vocal en minúscula\n"
          ]
        }
      ]
    },
    {
      "cell_type": "code",
      "source": [
        "#6. Se presentan 3 personas: Definir cual es el mayor de los 3 y definir de acuerdo a su edad si es un adulto, adolescente o niño.\n",
        "edad1 = int(input(\"Ingrese la edad de la primera persona: \"))\n",
        "edad2 = int(input(\"Ingrese la edad de la segunda persona: \"))\n",
        "edad3 = int(input(\"Ingrese la edad de la tercera persona: \"))\n",
        "mayor_edad = edad1 if edad1 > edad2 and edad1 > edad3 else edad2 if edad2 > edad1 and edad2 > edad3 else edad3\n",
        "categoria = \"adulto\" if mayor_edad >= 18 else \"adolescente\" if mayor_edad >= 13 else \"niño\"\n",
        "print(\"La persona mayor tiene\", mayor_edad, \"años y es un\", categoria)"
      ],
      "metadata": {
        "colab": {
          "base_uri": "https://localhost:8080/"
        },
        "id": "7u2qRXC-hOLb",
        "outputId": "8aef457d-3701-4843-a870-5cb01a28d28e"
      },
      "execution_count": 42,
      "outputs": [
        {
          "output_type": "stream",
          "name": "stdout",
          "text": [
            "Ingrese la edad de la primera persona: 13\n",
            "Ingrese la edad de la segunda persona: 56\n",
            "Ingrese la edad de la tercera persona: 24\n",
            "La persona mayor tiene 56 años y es un adulto\n"
          ]
        }
      ]
    },
    {
      "cell_type": "code",
      "source": [
        "#7. #Ejercicio 3: En el ejercicio de las vocales, además de decidir si es mayúscula o minúscula, informarle al usuario cuando éste introduce un caracter diferente a una vocal.\n",
        "caracter = input(\"Ingrese un carácter: \")\n",
        "match caracter:\n",
        "    case 'A' | 'E' | 'I' | 'O' | 'U':\n",
        "        print(f\"La letra '{caracter}' es una vocal mayúscula.\")\n",
        "    case 'a' | 'e' | 'i' | 'o' | 'u':\n",
        "        print(f\"La letra '{caracter}' es una vocal minúscula.\")\n",
        "    case _:\n",
        "        print(f\"La letra '{caracter}' no es una vocal.\")"
      ],
      "metadata": {
        "colab": {
          "base_uri": "https://localhost:8080/"
        },
        "id": "gaCax1V9hOwz",
        "outputId": "0eeaa243-baf3-4f94-d406-c9fe47ad8ff4"
      },
      "execution_count": 44,
      "outputs": [
        {
          "output_type": "stream",
          "name": "stdout",
          "text": [
            "Ingrese un carácter: a\n",
            "La letra 'a' es una vocal minúscula.\n"
          ]
        }
      ]
    },
    {
      "cell_type": "code",
      "source": [
        "caracter = input(\"Ingrese un carácter: \")\n",
        "if caracter == 'A' or caracter == 'E' or caracter == 'I' or caracter == 'O' or caracter == 'U':\n",
        "    print(f\"La letra '{caracter}' es una vocal mayúscula.\")\n",
        "elif caracter == 'a' or caracter == 'e' or caracter == 'i' or caracter == 'o' or caracter == 'u':\n",
        "    print(f\"La letra '{caracter}' es una vocal minúscula.\")\n",
        "else:\n",
        "    print(f\"La letra '{caracter}' no es una vocal.\")"
      ],
      "metadata": {
        "colab": {
          "base_uri": "https://localhost:8080/"
        },
        "id": "de7BSn4OhwEI",
        "outputId": "971d29cb-4287-426a-a11c-5c2d0029a1e2"
      },
      "execution_count": 45,
      "outputs": [
        {
          "output_type": "stream",
          "name": "stdout",
          "text": [
            "Ingrese un carácter: d\n",
            "La letra 'd' no es una vocal.\n"
          ]
        }
      ]
    },
    {
      "cell_type": "code",
      "source": [],
      "metadata": {
        "id": "GXn1vrf6hv2B"
      },
      "execution_count": null,
      "outputs": []
    }
  ]
}