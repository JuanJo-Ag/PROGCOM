{
  "nbformat": 4,
  "nbformat_minor": 0,
  "metadata": {
    "colab": {
      "provenance": []
    },
    "kernelspec": {
      "name": "python3",
      "display_name": "Python 3"
    },
    "language_info": {
      "name": "python"
    }
  },
  "cells": [
    {
      "cell_type": "code",
      "source": [
        "import time\n",
        "import random\n",
        "\n",
        "class Baños:\n",
        "    def __init__(self, genero):\n",
        "        self.ocupado = False\n",
        "        self.tiempo_uso = 0\n",
        "        self.genero = genero\n",
        "    def entrar(self, nombre):\n",
        "        if not self.ocupado:\n",
        "            self.ocupado = True\n",
        "            self.tiempo_uso = random.randint(5, 10)\n",
        "            print(f\"Una persona ha entrado al baño de {self.genero}. Tiempo estimado de uso: {self.tiempo_uso} segundos.\")\n",
        "\n",
        "\n",
        "            actividades = [self.usar_inodoro, self.usar_papel, self.usar_lavamanos, self.usar_jabon, self.secarse_manos]\n",
        "            tiempo_por_actividad = self.tiempo_uso / len(actividades)\n",
        "\n",
        "            for actividad in actividades:\n",
        "                actividad()\n",
        "                time.sleep(tiempo_por_actividad)\n",
        "\n",
        "            self.salir(nombre)\n",
        "        else:\n",
        "            print(f\"El baño de {self.genero} está ocupado. {nombre} debe esperar {self.tiempo_uso} segundos.\")\n",
        "\n",
        "    def usar_lavamanos(self):\n",
        "        print(\"Usando el lavamanos.\")\n",
        "\n",
        "    def usar_inodoro(self):\n",
        "        print(\"Usando el inodoro.\")\n",
        "\n",
        "    def usar_papel(self):\n",
        "        print(\"Usando papel higienico alchochamax.\")\n",
        "\n",
        "    def usar_jabon(self):\n",
        "        print(\"Usando jabón.\")\n",
        "\n",
        "    def secarse_manos(self):\n",
        "        print(\"Usando el secador de manos.\")\n",
        "\n",
        "    def salir(self, nombre):\n",
        "        self.ocupado = False\n",
        "        print(f\"{nombre} ha salido del baño de {self.genero}.\")\n",
        "\n",
        "\n",
        "class BañoHombres(Baño):\n",
        "    def __init__(self):\n",
        "        super().__init__(genero=\"hombres\")\n",
        "\n",
        "class BañoMujeres(Baño):\n",
        "    def __init__(self):\n",
        "        super().__init__(genero=\"mujeres\")\n",
        "\n",
        "baños_hombres = BañoHombres()\n",
        "baños_mujeres = BañoMujeres()\n",
        "\n",
        "baños_hombres.entrar(\"Persona 1\")\n",
        "time.sleep(5)\n",
        "baños_mujeres.entrar(\"Persona 2\")\n",
        "time.sleep(5)\n",
        "baños_hombres.entrar(\"Persona 3\")\n"
      ],
      "metadata": {
        "colab": {
          "base_uri": "https://localhost:8080/"
        },
        "id": "pfsybIHCkOwr",
        "outputId": "82ba0357-056f-4371-fef5-c30740cd9d1b"
      },
      "execution_count": 27,
      "outputs": [
        {
          "output_type": "stream",
          "name": "stdout",
          "text": [
            "Persona 1 ha entrado al baño de hombres. Tiempo estimado de uso: 9 segundos.\n",
            "Usando el inodoro.\n",
            "Usando papel.\n",
            "Usando el lavamanos.\n",
            "Usando jabón.\n",
            "Usando el secador de manos.\n",
            "Persona 1 ha salido del baño de hombres.\n",
            "Persona 2 ha entrado al baño de mujeres. Tiempo estimado de uso: 7 segundos.\n",
            "Usando el inodoro.\n",
            "Usando papel.\n",
            "Usando el lavamanos.\n",
            "Usando jabón.\n",
            "Usando el secador de manos.\n",
            "Persona 2 ha salido del baño de mujeres.\n",
            "Persona 3 ha entrado al baño de hombres. Tiempo estimado de uso: 10 segundos.\n",
            "Usando el inodoro.\n",
            "Usando papel.\n",
            "Usando el lavamanos.\n",
            "Usando jabón.\n",
            "Usando el secador de manos.\n",
            "Persona 3 ha salido del baño de hombres.\n"
          ]
        }
      ]
    },
    {
      "cell_type": "code",
      "source": [],
      "metadata": {
        "id": "Te_qnCvukt4r"
      },
      "execution_count": null,
      "outputs": []
    }
  ]
}