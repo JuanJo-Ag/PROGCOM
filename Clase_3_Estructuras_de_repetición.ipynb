{
  "nbformat": 4,
  "nbformat_minor": 0,
  "metadata": {
    "colab": {
      "provenance": []
    },
    "kernelspec": {
      "name": "python3",
      "display_name": "Python 3"
    },
    "language_info": {
      "name": "python"
    }
  },
  "cells": [
    {
      "cell_type": "code",
      "source": [
        "cont_par = 0\n",
        "cont_impar = 0\n",
        "\n",
        "for i in range(10):\n",
        "  numero = int(input(\"Ingresa un número: \"))\n",
        "\n",
        "  if numero % 2 == 0:\n",
        "    cont_par += 1\n",
        "  else:\n",
        "    cont_impar += 1\n",
        "\n",
        "print(f\"Números pares: {cont_par}\")\n",
        "print(f\"Números impares: {cont_impar}\")\n"
      ],
      "metadata": {
        "colab": {
          "base_uri": "https://localhost:8080/"
        },
        "id": "321VnjsK-jGW",
        "outputId": "e474483f-df57-4510-d2ec-41e09fd5b41f"
      },
      "execution_count": 13,
      "outputs": [
        {
          "output_type": "stream",
          "name": "stdout",
          "text": [
            "Ingresa un número: 3\n",
            "Ingresa un número: 43\n",
            "Ingresa un número: 5\n",
            "Ingresa un número: 67\n",
            "Ingresa un número: 8\n",
            "Ingresa un número: 9\n",
            "Ingresa un número: 13\n",
            "Ingresa un número: 45\n",
            "Ingresa un número: 3\n",
            "Ingresa un número: 2\n",
            "Números pares: 2\n",
            "Números impares: 8\n"
          ]
        }
      ]
    },
    {
      "cell_type": "code",
      "source": [
        "cont_par = 0\n",
        "\n",
        "for i in range(10):\n",
        "  numero = int(input(\"Ingresa un número: \"))\n",
        "\n",
        "  if numero % 2 == 0:\n",
        "    cont_par += 1\n",
        "    print(f\"El número {numero} es par\")\n",
        "  else:\n",
        "    break\n",
        "\n",
        "print(f\"Números pares encontrados: {cont_par}\")"
      ],
      "metadata": {
        "colab": {
          "base_uri": "https://localhost:8080/"
        },
        "id": "OtkU36boC9DH",
        "outputId": "87ebb3d2-d3a7-4ad3-cfd4-dc4e3a11225c"
      },
      "execution_count": 15,
      "outputs": [
        {
          "output_type": "stream",
          "name": "stdout",
          "text": [
            "Ingresa un número: 2\n",
            "El número 2 es par\n",
            "Ingresa un número: 6\n",
            "El número 6 es par\n",
            "Ingresa un número: 4\n",
            "El número 4 es par\n",
            "Ingresa un número: 8\n",
            "El número 8 es par\n",
            "Ingresa un número: 4\n",
            "El número 4 es par\n",
            "Ingresa un número: 24\n",
            "El número 24 es par\n",
            "Ingresa un número: 53\n",
            "Números pares encontrados: 6\n",
            "La cantidad de numeros pares es de: 6\n"
          ]
        }
      ]
    },
    {
      "cell_type": "code",
      "source": [
        "\n",
        "def calcular_nota_final(nota1, nota2, nota3):\n",
        "    if nota1 >= 70 and nota2 >= 70 and nota3 >= 70:\n",
        "        return (nota1 + nota2 + nota3) / 3\n",
        "    else:\n",
        "        return \"NA\"\n",
        "\n",
        "def reporte_calificaciones(estudiantes):\n",
        "    print(\"REPORTE DE CALIFICACIONES\")\n",
        "    print(\"NOMBRE                NOTA1  NOTA2  NOTA3  NOTA FINAL\")\n",
        "\n",
        "    for estudiante in estudiantes:\n",
        "        nombre, nota1, nota2, nota3 = estudiante\n",
        "        nota_final = calcular_nota_final(nota1, nota2, nota3)\n",
        "        print(f\"{nombre:20} {nota1:5} {nota2:5} {nota3:5} {nota_final:>9}\")\n",
        "\n",
        "    print(f\"\\nTOTAL {len(estudiantes)} ESTUDIANTES\")\n",
        "\n",
        "estudiantes = [\n",
        "    (\"Jaime V\", 80, 75, 90),\n",
        "    (\"Julian P\", 65, 85, 70),\n",
        "    (\"Felipe P\", 90, 90, 90),\n",
        "    (\"Kevin A\", 80, 76, 60),\n",
        "    (\"Juan M\", 98, 87, 92),\n",
        "    (\"Mario M\", 76, 32, 86),\n",
        "    (\"Piedad R\", 19, 87, 90),\n",
        "    (\"Mafe J\", 98, 42, 24),\n",
        "    (\"Juliana T\", 81, 85, 90),\n",
        "    (\"Juana M\", 89, 100, 69),\n",
        "    (\"Pablo P\", 78, 98, 87),\n",
        "    (\"Paula H\", 98, 86, 74),\n",
        "    (\"Daniela O\", 87, 86, 43),\n",
        "    (\"Laura C\", 45, 65, 59),\n",
        "    (\"Carlos S\", 56, 89, 65)\n",
        "\n",
        "    ]\n",
        "\n",
        "reporte_calificaciones(estudiantes)\n"
      ],
      "metadata": {
        "colab": {
          "base_uri": "https://localhost:8080/"
        },
        "id": "w7GXBFQFFVBE",
        "outputId": "6c7fd00b-f162-4b58-ac2b-92bbb7032b2c"
      },
      "execution_count": 23,
      "outputs": [
        {
          "output_type": "stream",
          "name": "stdout",
          "text": [
            "REPORTE DE CALIFICACIONES\n",
            "NOMBRE                NOTA1  NOTA2  NOTA3  NOTA FINAL\n",
            "Jaime V                 80    75    90 81.66666666666667\n",
            "Julian P                65    85    70        NA\n",
            "Felipe P                90    90    90      90.0\n",
            "Kevin A                 80    76    60        NA\n",
            "Juan M                  98    87    92 92.33333333333333\n",
            "Mario M                 76    32    86        NA\n",
            "Piedad R                19    87    90        NA\n",
            "Mafe J                  98    42    24        NA\n",
            "Juliana T               81    85    90 85.33333333333333\n",
            "Juana M                 89   100    69        NA\n",
            "Pablo P                 78    98    87 87.66666666666667\n",
            "Paula H                 98    86    74      86.0\n",
            "Daniela O               87    86    43        NA\n",
            "Laura C                 45    65    59        NA\n",
            "Carlos S                56    89    65        NA\n",
            "\n",
            "TOTAL 15 ESTUDIANTES\n"
          ]
        }
      ]
    },
    {
      "cell_type": "code",
      "source": [],
      "metadata": {
        "id": "QrA58V9fLye4"
      },
      "execution_count": null,
      "outputs": []
    }
  ]
}